{
 "cells": [
  {
   "cell_type": "code",
   "execution_count": null,
   "metadata": {},
   "outputs": [],
   "source": [
    "import pandas as pd\n",
    "\n",
    "df = pd.read_parquet('../Final/061200_unido.parquet')"
   ]
  },
  {
   "cell_type": "code",
   "execution_count": null,
   "metadata": {},
   "outputs": [],
   "source": [
    "from imblearn.under_sampling import RandomUnderSampler\n",
    "\n",
    "colunas_ignoradas = ['aircraftSerNum-1', 'data_inicio', 'data_final', 'time_to_failure', 'categoria_time_to_failure']\n",
    "\n",
    "# Divida seus dados em X e y\n",
    "X = df.drop(colunas_ignoradas, axis=1)\n",
    "y = df['categoria_time_to_failure']\n",
    "\n",
    "under = RandomUnderSampler(sampling_strategy={1:2000, 2: 2000, 3: 2000, 4: 2000})\n",
    "\n",
    "# Aplique o SMOTE\n",
    "X_balanced, y_balanced = under.fit_resample(X, y)"
   ]
  },
  {
   "cell_type": "code",
   "execution_count": null,
   "metadata": {},
   "outputs": [],
   "source": [
    "novo_df = pd.DataFrame(X_balanced, columns=X.columns)  # Usando as colunas do DataFrame original X\n",
    "novo_df['categoria_time_to_failure'] = y_balanced\n",
    "\n",
    "novo_df.to_parquet('061200_unidos_categorizado_under.parquet', index=False)"
   ]
  }
 ],
 "metadata": {
  "language_info": {
   "name": "python"
  },
  "orig_nbformat": 4
 },
 "nbformat": 4,
 "nbformat_minor": 2
}
