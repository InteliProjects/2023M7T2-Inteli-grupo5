{
 "cells": [
  {
   "cell_type": "code",
   "execution_count": 7,
   "metadata": {},
   "outputs": [],
   "source": [
    "import pandas as pd\n",
    "\n",
    "df = pd.read_parquet('./Data/061200_unidos_categorizado_under.parquet')"
   ]
  },
  {
   "cell_type": "code",
   "execution_count": null,
   "metadata": {},
   "outputs": [],
   "source": [
    "df"
   ]
  },
  {
   "cell_type": "markdown",
   "metadata": {},
   "source": [
    "Categorizando"
   ]
  },
  {
   "cell_type": "markdown",
   "metadata": {},
   "source": [
    "Treinando Classificativo"
   ]
  },
  {
   "cell_type": "code",
   "execution_count": 8,
   "metadata": {},
   "outputs": [
    {
     "data": {
      "text/plain": [
       "['modelo_random_forest_c_under.joblib']"
      ]
     },
     "execution_count": 8,
     "metadata": {},
     "output_type": "execute_result"
    }
   ],
   "source": [
    "from sklearn.ensemble import RandomForestClassifier, RandomForestRegressor\n",
    "from sklearn.model_selection import train_test_split\n",
    "from joblib import dump, load\n",
    "\n",
    "colunas_ignoradas = ['categoria_time_to_failure']\n",
    "\n",
    "# Selecionando as colunas para treinamento (ignorando as colunas especificadas)\n",
    "X = df.drop(columns=colunas_ignoradas)\n",
    "\n",
    "# Selecionando as colunas para previsão (targets)\n",
    "y = df['categoria_time_to_failure']\n",
    "\n",
    "# Dividindo os dados em conjuntos de treinamento e teste\n",
    "X_train, X_test, y_train, y_test = train_test_split(X, y, test_size=0.3, random_state=42)\n",
    "\n",
    "# Criando e treinando o modelo de regressão linear\n",
    "modelo = RandomForestClassifier(random_state=42)\n",
    "modelo.fit(X_train, y_train)\n",
    "\n",
    "# Fazendo previsões \n",
    "previsoes = modelo.predict(X_test)\n",
    "\n",
    "# Salvar o modelo em um arquivo\n",
    "dump(modelo, 'modelo_random_forest_c_under.joblib')\n"
   ]
  },
  {
   "cell_type": "code",
   "execution_count": 9,
   "metadata": {},
   "outputs": [
    {
     "name": "stdout",
     "output_type": "stream",
     "text": [
      "Acurácia: 75.37%\n",
      "Precisão: 54.68%\n",
      "Recall: 46.28%\n",
      "F1-Score: 48.88%\n"
     ]
    }
   ],
   "source": [
    "from sklearn.metrics import accuracy_score, precision_score, recall_score, f1_score, roc_auc_score\n",
    "\n",
    "# Verificando a pontuação de classificação de precisão.\n",
    "print(\"Acurácia: {:.2f}%\".format(accuracy_score(y_test, previsoes) * 100))\n",
    "print(\"Precisão: {:.2f}%\".format(precision_score(y_test, previsoes, average='macro') * 100))\n",
    "print(\"Recall: {:.2f}%\".format(recall_score(y_test, previsoes, average='macro') * 100))\n",
    "print(\"F1-Score: {:.2f}%\".format(f1_score(y_test, previsoes, average='macro') * 100))\n",
    "\n",
    "# Nota: AUC-ROC assume que suas classes estão binarizadas ou que você tenha classificação binária.\n",
    "if len(set(y_test)) == 2:\n",
    "    print(\"AUC-ROC: {:.2f}%\".format(roc_auc_score(y_test, previsoes) * 100))\n"
   ]
  },
  {
   "cell_type": "code",
   "execution_count": 13,
   "metadata": {},
   "outputs": [
    {
     "name": "stdout",
     "output_type": "stream",
     "text": [
      "cumulative_time: 0.31241420085711086\n",
      "flight_time: 0.06213271363992178\n",
      "bleedPrecoolDiffPress-1b: 0.045971481509448416\n",
      "correctedCoreSpeed-1a: 0.0453768255279235\n",
      "bleedPrecoolDiffPress-1a: 0.045310442322629395\n",
      "bleedOutTemp-1a: 0.04359825662076858\n",
      "bleedOutTemp-1b: 0.04253386843343498\n",
      "bleedOutTemp-2b: 0.042174133164896176\n",
      "bleedOutTemp-2a: 0.041587552024745796\n",
      "bleedMonPress-1b: 0.041186687513328275\n",
      "bleedPrsovFbk-1b: 0.040511968383574404\n",
      "bleedMonPress-1a: 0.04020645762275975\n",
      "bleedMonPress-2b: 0.03915157673038821\n",
      "bleedMonPress-2a: 0.03793817076864957\n",
      "bleedPrecoolDiffPress-2a: 0.03548356170393476\n",
      "bleedPrecoolDiffPress-2b: 0.03531764392835846\n",
      "bleed_fail: 0.027544807986400303\n",
      "recording_time: 0.021559651261726796\n"
     ]
    }
   ],
   "source": [
    "# Pegando as importâncias das características\n",
    "feature_importances = modelo.feature_importances_\n",
    "\n",
    "# Pegando os nomes das características (excluindo as colunas ignoradas)\n",
    "feature_names = [col for col in df.columns if col not in colunas_ignoradas]\n",
    "\n",
    "# Combinando os nomes das características com suas importâncias\n",
    "features = zip(feature_names, feature_importances)\n",
    "\n",
    "# Ordenando as características pela importância\n",
    "sorted_features = sorted(features, key=lambda x: x[1], reverse=True)\n",
    "\n",
    "# Imprimindo as características mais relevantes\n",
    "for feature in sorted_features:\n",
    "    print(f\"{feature[0]}: {feature[1]}\")"
   ]
  },
  {
   "cell_type": "code",
   "execution_count": 2,
   "metadata": {},
   "outputs": [
    {
     "data": {
      "text/plain": [
       "['modelo_xgboost_under_c.joblib']"
      ]
     },
     "execution_count": 2,
     "metadata": {},
     "output_type": "execute_result"
    }
   ],
   "source": [
    "from xgboost import XGBClassifier\n",
    "from sklearn.model_selection import train_test_split\n",
    "from joblib import dump, load\n",
    "\n",
    "colunas_ignoradas = ['categoria_time_to_failure']\n",
    "\n",
    "# Selecionando as colunas para treinamento (ignorando as colunas especificadas)\n",
    "X = df.drop(columns=colunas_ignoradas)\n",
    "\n",
    "# Selecionando as colunas para previsão (targets)\n",
    "y = df['categoria_time_to_failure']\n",
    "\n",
    "# Dividindo os dados em conjuntos de treinamento e teste\n",
    "X_train, X_test, y_train, y_test = train_test_split(X, y, test_size=0.2, random_state=42)\n",
    "\n",
    "# Criando e treinando o modelo XGBoost\n",
    "modelo = XGBClassifier(random_state=42, use_label_encoder=False, eval_metric='logloss')\n",
    "modelo.fit(X_train, y_train)\n",
    "\n",
    "# Fazendo previsões\n",
    "previsoes = modelo.predict(X_test)\n",
    "\n",
    "# Salvar o modelo em um arquivo\n",
    "dump(modelo, 'modelo_xgboost_c_under.joblib')"
   ]
  },
  {
   "cell_type": "code",
   "execution_count": 3,
   "metadata": {},
   "outputs": [
    {
     "name": "stdout",
     "output_type": "stream",
     "text": [
      "Acurácia: 78.99%\n",
      "Precisão: 62.31%\n",
      "Recall: 54.94%\n",
      "F1-Score: 57.72%\n"
     ]
    }
   ],
   "source": [
    "from sklearn.metrics import accuracy_score, precision_score, recall_score, f1_score, roc_auc_score\n",
    "\n",
    "# Verificando a pontuação de classificação de precisão.\n",
    "print(\"Acurácia: {:.2f}%\".format(accuracy_score(y_test, previsoes) * 100))\n",
    "print(\"Precisão: {:.2f}%\".format(precision_score(y_test, previsoes, average='macro') * 100))\n",
    "print(\"Recall: {:.2f}%\".format(recall_score(y_test, previsoes, average='macro') * 100))\n",
    "print(\"F1-Score: {:.2f}%\".format(f1_score(y_test, previsoes, average='macro') * 100))\n",
    "\n",
    "# Nota: AUC-ROC assume que suas classes estão binarizadas ou que você tenha classificação binária.\n",
    "if len(set(y_test)) == 2:\n",
    "    print(\"AUC-ROC: {:.2f}%\".format(roc_auc_score(y_test, previsoes) * 100))\n"
   ]
  },
  {
   "cell_type": "code",
   "execution_count": 6,
   "metadata": {},
   "outputs": [
    {
     "name": "stdout",
     "output_type": "stream",
     "text": [
      "bleed_fail: 0.3946102261543274\n",
      "cumulative_time: 0.13671214878559113\n",
      "bleedPrsovFbk-1b: 0.03932633250951767\n",
      "flight_time: 0.035583607852458954\n",
      "bleedMonPress-2b: 0.03234165906906128\n",
      "bleedMonPress-1b: 0.03209799900650978\n",
      "bleedOutTemp-2a: 0.031123053282499313\n",
      "bleedOutTemp-1b: 0.030475374311208725\n",
      "bleedMonPress-2a: 0.028357455506920815\n",
      "bleedPrecoolDiffPress-2b: 0.028344614431262016\n",
      "bleedOutTemp-2b: 0.028015803545713425\n",
      "bleedOutTemp-1a: 0.027955567464232445\n",
      "correctedCoreSpeed-1a: 0.027444908395409584\n",
      "recording_time: 0.026856251060962677\n",
      "bleedPrecoolDiffPress-2a: 0.026073219254612923\n",
      "bleedPrecoolDiffPress-1a: 0.026034114882349968\n",
      "bleedMonPress-1a: 0.02437230944633484\n",
      "bleedPrecoolDiffPress-1b: 0.024275336414575577\n"
     ]
    }
   ],
   "source": [
    "# Pegando as importâncias das características\n",
    "feature_importances = modelo.feature_importances_\n",
    "\n",
    "# Pegando os nomes das características (excluindo as colunas ignoradas)\n",
    "feature_names = [col for col in df.columns if col not in colunas_ignoradas]\n",
    "\n",
    "# Combinando os nomes das características com suas importâncias\n",
    "features = zip(feature_names, feature_importances)\n",
    "\n",
    "# Ordenando as características pela importância\n",
    "sorted_features = sorted(features, key=lambda x: x[1], reverse=True)\n",
    "\n",
    "# Imprimindo as características mais relevantes\n",
    "for feature in sorted_features:\n",
    "    print(f\"{feature[0]}: {feature[1]}\")"
   ]
  }
 ],
 "metadata": {
  "kernelspec": {
   "display_name": "Python 3",
   "language": "python",
   "name": "python3"
  },
  "language_info": {
   "codemirror_mode": {
    "name": "ipython",
    "version": 3
   },
   "file_extension": ".py",
   "mimetype": "text/x-python",
   "name": "python",
   "nbconvert_exporter": "python",
   "pygments_lexer": "ipython3",
   "version": "3.11.4"
  },
  "orig_nbformat": 4
 },
 "nbformat": 4,
 "nbformat_minor": 2
}
