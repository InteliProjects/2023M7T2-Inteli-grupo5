{
 "cells": [
  {
   "cell_type": "code",
   "execution_count": 15,
   "metadata": {},
   "outputs": [],
   "source": [
    "import pandas as pd\n",
    "import optuna as opt\n",
    "from sklearn.model_selection import train_test_split\n",
    "import numpy as np\n",
    "from sklearn.ensemble import GradientBoostingRegressor"
   ]
  },
  {
   "cell_type": "code",
   "execution_count": 16,
   "metadata": {},
   "outputs": [],
   "source": [
    "df = pd.read_parquet('./final_data/new/final_data.parquet')"
   ]
  },
  {
   "cell_type": "code",
   "execution_count": 17,
   "metadata": {},
   "outputs": [],
   "source": [
    "X = df.drop([\"time_to_failure\"], axis=1)\n",
    "y = df[\"time_to_failure\"]\n",
    " \n",
    "X_train, X_test, y_train, y_test = train_test_split(X, y, test_size=0.2, random_state=42)"
   ]
  },
  {
   "cell_type": "code",
   "execution_count": 19,
   "metadata": {},
   "outputs": [
    {
     "name": "stderr",
     "output_type": "stream",
     "text": [
      "[I 2023-09-30 22:26:07,908] A new study created in memory with name: no-name-c06395e9-b386-423b-b8de-e7c72b28247d\n"
     ]
    },
    {
     "name": "stdout",
     "output_type": "stream",
     "text": [
      "[Errno 2] No such file or directory: './studies/study.pkl'\n",
      "aqui\n"
     ]
    },
    {
     "name": "stderr",
     "output_type": "stream",
     "text": [
      "[I 2023-09-30 22:26:11,529] Trial 0 finished with values: [29.37702302268311, 0.4283383633647698] and parameters: {'n_estimators': 943, 'max_depth': 2, 'learning_rate': 0.050048211075825445, 'min_samples_split': 75, 'min_samples_leaf': 13, 'subsample': 0.2412097380871187, 'max_features': 4}. \n",
      "[I 2023-09-30 22:26:13,257] Trial 1 finished with values: [57.6978262213887, 0.21848039438439837] and parameters: {'n_estimators': 156, 'max_depth': 10, 'learning_rate': 0.007507058099209009, 'min_samples_split': 11, 'min_samples_leaf': 76, 'subsample': 0.16351260202286608, 'max_features': 9}. \n",
      "[I 2023-09-30 22:26:13,494] Trial 2 finished with values: [59.39207783504386, 1.1619560871316563] and parameters: {'n_estimators': 70, 'max_depth': 2, 'learning_rate': 0.054165681193985724, 'min_samples_split': 20, 'min_samples_leaf': 97, 'subsample': 0.13213436706539963, 'max_features': 6}. \n",
      "[I 2023-09-30 22:26:14,836] Trial 3 finished with values: [158.22724631753303, 0.035031191115201483] and parameters: {'n_estimators': 51, 'max_depth': 8, 'learning_rate': 0.0007610615071058062, 'min_samples_split': 69, 'min_samples_leaf': 48, 'subsample': 0.4075153256388928, 'max_features': 9}. \n",
      "[I 2023-09-30 22:26:18,074] Trial 4 finished with values: [53.50954879603036, 0.656391977142869] and parameters: {'n_estimators': 549, 'max_depth': 4, 'learning_rate': 0.002668730414051637, 'min_samples_split': 91, 'min_samples_leaf': 71, 'subsample': 0.14245846189392075, 'max_features': 7}. \n",
      "[I 2023-09-30 22:26:31,927] Trial 5 finished with values: [23.39562343840114, 0.3235029512378514] and parameters: {'n_estimators': 977, 'max_depth': 5, 'learning_rate': 0.004983115761209835, 'min_samples_split': 7, 'min_samples_leaf': 85, 'subsample': 0.2725983111862125, 'max_features': 10}. \n",
      "[I 2023-09-30 22:26:36,439] Trial 6 finished with values: [148.61603133734977, 0.01790115201233517] and parameters: {'n_estimators': 441, 'max_depth': 6, 'learning_rate': 0.0002407240596618266, 'min_samples_split': 89, 'min_samples_leaf': 74, 'subsample': 0.1871591358921332, 'max_features': 8}. \n",
      "[I 2023-09-30 22:26:40,328] Trial 7 finished with values: [61.6900152062929, 1.0361860258356963] and parameters: {'n_estimators': 1000, 'max_depth': 1, 'learning_rate': 0.04400243371548425, 'min_samples_split': 76, 'min_samples_leaf': 9, 'subsample': 0.2589800243548847, 'max_features': 8}. \n",
      "[I 2023-09-30 22:26:43,125] Trial 8 finished with values: [146.2320687964015, 0.0896474965364212] and parameters: {'n_estimators': 834, 'max_depth': 2, 'learning_rate': 0.00019555904305385816, 'min_samples_split': 13, 'min_samples_leaf': 5, 'subsample': 0.13629651325561828, 'max_features': 6}. \n",
      "[I 2023-09-30 22:27:21,298] Trial 9 finished with values: [162.55276151903809, 0.03376669903921507] and parameters: {'n_estimators': 741, 'max_depth': 7, 'learning_rate': 1.4742783697824283e-05, 'min_samples_split': 87, 'min_samples_leaf': 59, 'subsample': 0.918381738823784, 'max_features': 9}. \n",
      "[I 2023-09-30 22:27:34,247] Trial 10 finished with values: [161.10891591119997, 0.030054402263855112] and parameters: {'n_estimators': 467, 'max_depth': 6, 'learning_rate': 4.353027729701124e-05, 'min_samples_split': 91, 'min_samples_leaf': 91, 'subsample': 0.4799648842923231, 'max_features': 10}. \n",
      "[I 2023-09-30 22:27:57,760] Trial 11 finished with values: [12.300356409047613, 36.59911543568995] and parameters: {'n_estimators': 716, 'max_depth': 8, 'learning_rate': 0.04742071720162711, 'min_samples_split': 47, 'min_samples_leaf': 50, 'subsample': 0.8453304321370171, 'max_features': 5}. \n",
      "[I 2023-09-30 22:28:18,772] Trial 12 finished with values: [12.204536464297918, 49.105189165934036] and parameters: {'n_estimators': 557, 'max_depth': 9, 'learning_rate': 0.060411908266890864, 'min_samples_split': 73, 'min_samples_leaf': 49, 'subsample': 0.8907845510906636, 'max_features': 5}. \n",
      "[I 2023-09-30 22:28:22,603] Trial 13 finished with values: [86.79818701875827, 0.40021130700306345] and parameters: {'n_estimators': 509, 'max_depth': 7, 'learning_rate': 0.0022835659000754642, 'min_samples_split': 52, 'min_samples_leaf': 86, 'subsample': 0.7100805182047075, 'max_features': 1}. \n",
      "[I 2023-09-30 22:28:45,189] Trial 14 finished with values: [158.40465569233191, 0.02967240197172073] and parameters: {'n_estimators': 777, 'max_depth': 7, 'learning_rate': 4.873741676338685e-05, 'min_samples_split': 59, 'min_samples_leaf': 98, 'subsample': 0.5154913081730108, 'max_features': 9}. \n",
      "[I 2023-09-30 22:28:48,474] Trial 15 finished with values: [128.86521636066632, 0.007163882408927741] and parameters: {'n_estimators': 229, 'max_depth': 7, 'learning_rate': 0.0011206067519816314, 'min_samples_split': 10, 'min_samples_leaf': 96, 'subsample': 0.24198356018266473, 'max_features': 9}. \n",
      "[I 2023-09-30 22:28:56,443] Trial 16 finished with values: [161.401175264858, 0.02599501574958692] and parameters: {'n_estimators': 750, 'max_depth': 3, 'learning_rate': 2.8806902872063824e-05, 'min_samples_split': 22, 'min_samples_leaf': 85, 'subsample': 0.5690045161785018, 'max_features': 5}. \n",
      "[I 2023-09-30 22:28:57,224] Trial 17 finished with values: [133.53651492829255, 0.4262631348110082] and parameters: {'n_estimators': 296, 'max_depth': 1, 'learning_rate': 0.002809405983300722, 'min_samples_split': 30, 'min_samples_leaf': 96, 'subsample': 0.39416196241773127, 'max_features': 1}. \n",
      "[I 2023-09-30 22:28:58,739] Trial 18 finished with values: [144.7835651145377, 0.21513641506592596] and parameters: {'n_estimators': 658, 'max_depth': 1, 'learning_rate': 0.0006582566623460408, 'min_samples_split': 24, 'min_samples_leaf': 92, 'subsample': 0.30964194275764206, 'max_features': 1}. \n",
      "[I 2023-09-30 22:29:01,065] Trial 19 finished with values: [154.2678038547523, 0.01498951135078383] and parameters: {'n_estimators': 279, 'max_depth': 3, 'learning_rate': 0.00030994468837114235, 'min_samples_split': 78, 'min_samples_leaf': 16, 'subsample': 0.6433868318610744, 'max_features': 3}. \n"
     ]
    },
    {
     "name": "stdout",
     "output_type": "stream",
     "text": [
      "ali\n"
     ]
    },
    {
     "name": "stderr",
     "output_type": "stream",
     "text": [
      "[I 2023-09-30 22:29:03,537] Trial 20 finished with values: [152.45274734285883, 0.08936841794685034] and parameters: {'n_estimators': 761, 'max_depth': 1, 'learning_rate': 0.0001809617146660245, 'min_samples_split': 42, 'min_samples_leaf': 35, 'subsample': 0.2559852385103464, 'max_features': 6}. \n",
      "[I 2023-09-30 22:29:04,690] Trial 21 finished with values: [163.24943835004902, 0.031145792376689886] and parameters: {'n_estimators': 125, 'max_depth': 4, 'learning_rate': 6.202579300105607e-05, 'min_samples_split': 43, 'min_samples_leaf': 56, 'subsample': 0.5315773245532014, 'max_features': 3}. \n",
      "[I 2023-09-30 22:29:09,698] Trial 22 finished with values: [163.248322523482, 0.03173032105937367] and parameters: {'n_estimators': 640, 'max_depth': 7, 'learning_rate': 1.18604741725896e-05, 'min_samples_split': 36, 'min_samples_leaf': 58, 'subsample': 0.3595944552005147, 'max_features': 2}. \n",
      "[I 2023-09-30 22:29:16,143] Trial 23 finished with values: [14.219967380707242, 16.05918750127905] and parameters: {'n_estimators': 487, 'max_depth': 8, 'learning_rate': 0.0188344535617881, 'min_samples_split': 19, 'min_samples_leaf': 8, 'subsample': 0.2820814566640481, 'max_features': 5}. \n",
      "[I 2023-09-30 22:29:26,438] Trial 24 finished with values: [161.40965312307756, 0.027156574476522144] and parameters: {'n_estimators': 625, 'max_depth': 4, 'learning_rate': 3.2844004584116736e-05, 'min_samples_split': 48, 'min_samples_leaf': 87, 'subsample': 0.9893532146555146, 'max_features': 4}. \n",
      "[I 2023-09-30 22:29:28,202] Trial 25 finished with values: [162.49391888360145, 0.03303105253097469] and parameters: {'n_estimators': 155, 'max_depth': 7, 'learning_rate': 7.309894982306748e-05, 'min_samples_split': 69, 'min_samples_leaf': 17, 'subsample': 0.16847090254070746, 'max_features': 9}. \n",
      "[I 2023-09-30 22:29:30,418] Trial 26 finished with values: [162.37438761483753, 0.03258304628670652] and parameters: {'n_estimators': 372, 'max_depth': 3, 'learning_rate': 3.648565172427512e-05, 'min_samples_split': 52, 'min_samples_leaf': 38, 'subsample': 0.17233801920592487, 'max_features': 9}. \n",
      "[I 2023-09-30 22:29:39,703] Trial 27 finished with values: [17.52345588421383, 3.887885406705807] and parameters: {'n_estimators': 302, 'max_depth': 7, 'learning_rate': 0.01710336320255596, 'min_samples_split': 52, 'min_samples_leaf': 64, 'subsample': 0.8174777286190792, 'max_features': 6}. \n",
      "[I 2023-09-30 22:29:49,929] Trial 28 finished with values: [20.571013596402793, 1.0561488414414046] and parameters: {'n_estimators': 866, 'max_depth': 4, 'learning_rate': 0.015421374088253084, 'min_samples_split': 35, 'min_samples_leaf': 73, 'subsample': 0.5391635310412844, 'max_features': 5}. \n",
      "[I 2023-09-30 22:29:55,867] Trial 29 finished with values: [153.78545743683054, 0.027496353610274513] and parameters: {'n_estimators': 740, 'max_depth': 9, 'learning_rate': 9.445248646038263e-05, 'min_samples_split': 38, 'min_samples_leaf': 77, 'subsample': 0.12723160206550002, 'max_features': 9}. \n"
     ]
    },
    {
     "name": "stdout",
     "output_type": "stream",
     "text": [
      "ali\n"
     ]
    },
    {
     "name": "stderr",
     "output_type": "stream",
     "text": [
      "[I 2023-09-30 22:29:56,086] Trial 30 finished with values: [164.01355884025517, 0.03165773621889374] and parameters: {'n_estimators': 61, 'max_depth': 1, 'learning_rate': 6.260571743998236e-05, 'min_samples_split': 99, 'min_samples_leaf': 4, 'subsample': 0.7897187453108849, 'max_features': 2}. \n",
      "[I 2023-09-30 22:30:00,828] Trial 31 finished with values: [161.84570262164357, 0.01149366135303517] and parameters: {'n_estimators': 571, 'max_depth': 1, 'learning_rate': 4.3110082376437376e-05, 'min_samples_split': 54, 'min_samples_leaf': 52, 'subsample': 0.8706649642691775, 'max_features': 8}. \n",
      "[I 2023-09-30 22:30:12,506] Trial 32 finished with values: [138.23849675602682, 0.030366882909751033] and parameters: {'n_estimators': 808, 'max_depth': 3, 'learning_rate': 0.00025866777104706454, 'min_samples_split': 83, 'min_samples_leaf': 28, 'subsample': 0.63080931396336, 'max_features': 7}. \n",
      "[I 2023-09-30 22:30:15,217] Trial 33 finished with values: [24.187695651486333, 2.445556869098181] and parameters: {'n_estimators': 565, 'max_depth': 10, 'learning_rate': 0.005754557581776372, 'min_samples_split': 32, 'min_samples_leaf': 12, 'subsample': 0.10172134707709722, 'max_features': 2}. \n",
      "[I 2023-09-30 22:30:19,630] Trial 34 finished with values: [160.2519062814649, 0.006214519994858839] and parameters: {'n_estimators': 722, 'max_depth': 2, 'learning_rate': 5.476662373248346e-05, 'min_samples_split': 74, 'min_samples_leaf': 43, 'subsample': 0.6822076377922279, 'max_features': 3}. \n",
      "[I 2023-09-30 22:30:21,279] Trial 35 finished with values: [161.95535673623127, 0.018499173752788388] and parameters: {'n_estimators': 547, 'max_depth': 4, 'learning_rate': 4.538955346644186e-05, 'min_samples_split': 89, 'min_samples_leaf': 52, 'subsample': 0.1827910860271217, 'max_features': 1}. \n",
      "[I 2023-09-30 22:30:22,106] Trial 36 finished with values: [71.30556956442659, 0.5821752240852448] and parameters: {'n_estimators': 194, 'max_depth': 4, 'learning_rate': 0.005745623910520876, 'min_samples_split': 75, 'min_samples_leaf': 64, 'subsample': 0.1452752258622068, 'max_features': 4}. \n",
      "[I 2023-09-30 22:30:29,738] Trial 37 finished with values: [159.14903184609298, 0.020697212225878815] and parameters: {'n_estimators': 745, 'max_depth': 4, 'learning_rate': 4.962829469809718e-05, 'min_samples_split': 95, 'min_samples_leaf': 34, 'subsample': 0.518000563627803, 'max_features': 4}. \n",
      "[I 2023-09-30 22:30:39,842] Trial 38 finished with values: [29.003652142052424, 0.36719362808521616] and parameters: {'n_estimators': 872, 'max_depth': 8, 'learning_rate': 0.0025548125151398445, 'min_samples_split': 16, 'min_samples_leaf': 48, 'subsample': 0.16147406813142512, 'max_features': 10}. \n",
      "[I 2023-09-30 22:30:44,220] Trial 39 finished with values: [92.08421019572172, 0.2233186174872192] and parameters: {'n_estimators': 584, 'max_depth': 10, 'learning_rate': 0.001092775142731731, 'min_samples_split': 50, 'min_samples_leaf': 97, 'subsample': 0.14468330743353916, 'max_features': 7}. \n"
     ]
    },
    {
     "name": "stdout",
     "output_type": "stream",
     "text": [
      "ali\n"
     ]
    },
    {
     "name": "stderr",
     "output_type": "stream",
     "text": [
      "[I 2023-09-30 22:30:56,564] Trial 40 finished with values: [99.77406353317988, 0.23621058790625837] and parameters: {'n_estimators': 830, 'max_depth': 3, 'learning_rate': 0.0007765896251914901, 'min_samples_split': 60, 'min_samples_leaf': 50, 'subsample': 0.5036478494445351, 'max_features': 9}. \n",
      "[I 2023-09-30 22:30:56,734] Trial 41 finished with values: [124.55634552524279, 0.3677275435793034] and parameters: {'n_estimators': 78, 'max_depth': 2, 'learning_rate': 0.007266705811240238, 'min_samples_split': 61, 'min_samples_leaf': 5, 'subsample': 0.10117658668899587, 'max_features': 2}. \n",
      "[I 2023-09-30 22:30:58,326] Trial 42 finished with values: [145.93404644042857, 0.06208152376846727] and parameters: {'n_estimators': 337, 'max_depth': 6, 'learning_rate': 0.000561219913501851, 'min_samples_split': 100, 'min_samples_leaf': 52, 'subsample': 0.3050651592020976, 'max_features': 1}. \n",
      "[I 2023-09-30 22:31:06,624] Trial 43 finished with values: [25.973593795659813, 1.1782652571696677] and parameters: {'n_estimators': 694, 'max_depth': 3, 'learning_rate': 0.018011476541211772, 'min_samples_split': 75, 'min_samples_leaf': 94, 'subsample': 0.43697887686117265, 'max_features': 8}. \n",
      "[I 2023-09-30 22:31:19,499] Trial 44 finished with values: [12.952595234468806, 50.31143661259206] and parameters: {'n_estimators': 727, 'max_depth': 6, 'learning_rate': 0.0495268395635185, 'min_samples_split': 8, 'min_samples_leaf': 4, 'subsample': 0.3328443898688696, 'max_features': 9}. \n",
      "[I 2023-09-30 22:31:35,576] Trial 45 finished with values: [15.262843432055282, 11.3922233932466] and parameters: {'n_estimators': 919, 'max_depth': 9, 'learning_rate': 0.006392628621879231, 'min_samples_split': 61, 'min_samples_leaf': 1, 'subsample': 0.21439915225833805, 'max_features': 10}. \n",
      "[I 2023-09-30 22:31:37,265] Trial 46 finished with values: [86.84678068705341, 0.05661548067567182] and parameters: {'n_estimators': 211, 'max_depth': 6, 'learning_rate': 0.003548651169795495, 'min_samples_split': 43, 'min_samples_leaf': 10, 'subsample': 0.3000242197285429, 'max_features': 3}. \n",
      "[I 2023-09-30 22:31:41,008] Trial 47 finished with values: [91.83941230970541, 1.179777387641152] and parameters: {'n_estimators': 730, 'max_depth': 1, 'learning_rate': 0.0024931171499777507, 'min_samples_split': 55, 'min_samples_leaf': 47, 'subsample': 0.659492130991403, 'max_features': 5}. \n",
      "[I 2023-09-30 22:31:44,424] Trial 48 finished with values: [155.23974194487786, 0.026993521906965426] and parameters: {'n_estimators': 284, 'max_depth': 8, 'learning_rate': 0.00023283849099006154, 'min_samples_split': 67, 'min_samples_leaf': 41, 'subsample': 0.6257664110666536, 'max_features': 2}. \n",
      "[I 2023-09-30 22:31:46,415] Trial 49 finished with values: [19.692498677501707, 4.7204930703178976] and parameters: {'n_estimators': 398, 'max_depth': 9, 'learning_rate': 0.020121842768116755, 'min_samples_split': 66, 'min_samples_leaf': 32, 'subsample': 0.14521626854202846, 'max_features': 2}. \n"
     ]
    },
    {
     "name": "stdout",
     "output_type": "stream",
     "text": [
      "ali\n"
     ]
    },
    {
     "name": "stderr",
     "output_type": "stream",
     "text": [
      "[I 2023-09-30 22:31:50,999] Trial 50 finished with values: [162.13626548370036, 0.030593372582861957] and parameters: {'n_estimators': 229, 'max_depth': 4, 'learning_rate': 6.202579300105607e-05, 'min_samples_split': 43, 'min_samples_leaf': 96, 'subsample': 0.5315773245532014, 'max_features': 9}. \n",
      "[I 2023-09-30 22:31:57,288] Trial 51 finished with values: [16.16146048345969, 9.851397727101926] and parameters: {'n_estimators': 943, 'max_depth': 5, 'learning_rate': 0.050048211075825445, 'min_samples_split': 75, 'min_samples_leaf': 52, 'subsample': 0.2412097380871187, 'max_features': 4}. \n",
      "[I 2023-09-30 22:32:17,340] Trial 52 finished with values: [13.879577746400205, 21.51223550412889] and parameters: {'n_estimators': 977, 'max_depth': 9, 'learning_rate': 0.050048211075825445, 'min_samples_split': 75, 'min_samples_leaf': 93, 'subsample': 0.2725983111862125, 'max_features': 10}. \n",
      "[I 2023-09-30 22:32:18,811] Trial 53 finished with values: [156.86235741114783, 0.04065495064762909] and parameters: {'n_estimators': 487, 'max_depth': 1, 'learning_rate': 0.0001809617146660245, 'min_samples_split': 19, 'min_samples_leaf': 35, 'subsample': 0.2559852385103464, 'max_features': 5}. \n",
      "[I 2023-09-30 22:32:23,431] Trial 54 finished with values: [90.08081582044744, 0.4516589180444141] and parameters: {'n_estimators': 750, 'max_depth': 3, 'learning_rate': 0.0011193151504850763, 'min_samples_split': 22, 'min_samples_leaf': 8, 'subsample': 0.2820814566640481, 'max_features': 5}. \n",
      "[I 2023-09-30 22:32:39,491] Trial 55 finished with values: [15.262843432055282, 11.3922233932466] and parameters: {'n_estimators': 919, 'max_depth': 9, 'learning_rate': 0.006392628621879231, 'min_samples_split': 61, 'min_samples_leaf': 1, 'subsample': 0.21439915225833805, 'max_features': 10}. \n",
      "[I 2023-09-30 22:32:43,641] Trial 56 finished with values: [20.094817247190676, 3.167157451037362] and parameters: {'n_estimators': 279, 'max_depth': 7, 'learning_rate': 0.01710336320255596, 'min_samples_split': 78, 'min_samples_leaf': 64, 'subsample': 0.6433868318610744, 'max_features': 3}. \n",
      "[I 2023-09-30 22:32:45,391] Trial 57 finished with values: [28.697526914461864, 1.6192106922038096] and parameters: {'n_estimators': 296, 'max_depth': 8, 'learning_rate': 0.01717539959367002, 'min_samples_split': 67, 'min_samples_leaf': 41, 'subsample': 0.39416196241773127, 'max_features': 1}. \n",
      "[I 2023-09-30 22:32:58,582] Trial 58 finished with values: [161.36542698246276, 0.03307363194132285] and parameters: {'n_estimators': 571, 'max_depth': 3, 'learning_rate': 3.648565172427512e-05, 'min_samples_split': 54, 'min_samples_leaf': 95, 'subsample': 0.8706649642691775, 'max_features': 9}. \n",
      "[I 2023-09-30 22:33:19,306] Trial 59 finished with values: [12.225881479146292, 43.88067779551112] and parameters: {'n_estimators': 557, 'max_depth': 9, 'learning_rate': 0.01710336320255596, 'min_samples_split': 52, 'min_samples_leaf': 3, 'subsample': 0.8907845510906636, 'max_features': 5}. \n"
     ]
    },
    {
     "name": "stdout",
     "output_type": "stream",
     "text": [
      "ali\n"
     ]
    },
    {
     "name": "stderr",
     "output_type": "stream",
     "text": [
      "[I 2023-09-30 22:33:27,274] Trial 60 finished with values: [155.2018578908981, 0.006237714534333768] and parameters: {'n_estimators': 740, 'max_depth': 3, 'learning_rate': 9.445248646038263e-05, 'min_samples_split': 38, 'min_samples_leaf': 77, 'subsample': 0.5690045161785018, 'max_features': 5}. \n",
      "[I 2023-09-30 22:33:31,316] Trial 61 finished with values: [30.176616883612287, 0.15173591905930517] and parameters: {'n_estimators': 565, 'max_depth': 5, 'learning_rate': 0.005754557581776372, 'min_samples_split': 32, 'min_samples_leaf': 10, 'subsample': 0.3000242197285429, 'max_features': 3}. \n",
      "[I 2023-09-30 22:33:40,786] Trial 62 finished with values: [163.2009512072454, 0.03284217745488079] and parameters: {'n_estimators': 640, 'max_depth': 8, 'learning_rate': 1.18604741725896e-05, 'min_samples_split': 36, 'min_samples_leaf': 50, 'subsample': 0.8453304321370171, 'max_features': 2}. \n",
      "[I 2023-09-30 22:33:45,357] Trial 63 finished with values: [16.75346435668971, 13.904306556579948] and parameters: {'n_estimators': 727, 'max_depth': 6, 'learning_rate': 0.0495268395635185, 'min_samples_split': 90, 'min_samples_leaf': 28, 'subsample': 0.3328443898688696, 'max_features': 2}. \n",
      "[I 2023-09-30 22:34:06,423] Trial 64 finished with values: [160.85510231153353, 0.02915779891572476] and parameters: {'n_estimators': 625, 'max_depth': 4, 'learning_rate': 3.648565172427512e-05, 'min_samples_split': 48, 'min_samples_leaf': 38, 'subsample': 0.9893532146555146, 'max_features': 9}. \n",
      "[I 2023-09-30 22:34:08,176] Trial 65 finished with values: [21.001054907197876, 4.125204698139826] and parameters: {'n_estimators': 337, 'max_depth': 8, 'learning_rate': 0.04742071720162711, 'min_samples_split': 100, 'min_samples_leaf': 63, 'subsample': 0.3050651592020976, 'max_features': 1}. \n",
      "[I 2023-09-30 22:34:25,748] Trial 66 finished with values: [92.27488899682682, 0.10962647400807213] and parameters: {'n_estimators': 584, 'max_depth': 5, 'learning_rate': 0.001092775142731731, 'min_samples_split': 50, 'min_samples_leaf': 97, 'subsample': 0.9098340972572742, 'max_features': 7}. \n",
      "[I 2023-09-30 22:34:28,933] Trial 67 finished with values: [148.94488035294685, 0.004606464580490318] and parameters: {'n_estimators': 441, 'max_depth': 6, 'learning_rate': 0.0002407240596618266, 'min_samples_split': 11, 'min_samples_leaf': 74, 'subsample': 0.1871591358921332, 'max_features': 5}. \n",
      "[I 2023-09-30 22:34:29,450] Trial 68 finished with values: [83.71573897225511, 0.47024414333387066] and parameters: {'n_estimators': 125, 'max_depth': 4, 'learning_rate': 0.007507058099209009, 'min_samples_split': 43, 'min_samples_leaf': 62, 'subsample': 0.16351260202286608, 'max_features': 3}. \n",
      "[I 2023-09-30 22:34:34,242] Trial 69 finished with values: [26.01496647285623, 0.4370139782966392] and parameters: {'n_estimators': 834, 'max_depth': 10, 'learning_rate': 0.004609037356191314, 'min_samples_split': 13, 'min_samples_leaf': 97, 'subsample': 0.10295978378085267, 'max_features': 7}. \n"
     ]
    },
    {
     "name": "stdout",
     "output_type": "stream",
     "text": [
      "ali\n"
     ]
    },
    {
     "name": "stderr",
     "output_type": "stream",
     "text": [
      "[I 2023-09-30 22:34:41,561] Trial 70 finished with values: [160.4132612018689, 0.03338198793615956] and parameters: {'n_estimators': 571, 'max_depth': 10, 'learning_rate': 4.3110082376437376e-05, 'min_samples_split': 54, 'min_samples_leaf': 32, 'subsample': 0.1823705493861221, 'max_features': 8}. \n",
      "[I 2023-09-30 22:34:42,537] Trial 71 finished with values: [145.90590139007057, 0.08248076481636611] and parameters: {'n_estimators': 337, 'max_depth': 6, 'learning_rate': 0.000561219913501851, 'min_samples_split': 50, 'min_samples_leaf': 52, 'subsample': 0.10225540339900588, 'max_features': 1}. \n",
      "[I 2023-09-30 22:34:46,307] Trial 72 finished with values: [21.61980842369919, 5.557826769867313] and parameters: {'n_estimators': 398, 'max_depth': 9, 'learning_rate': 0.020121842768116755, 'min_samples_split': 88, 'min_samples_leaf': 87, 'subsample': 0.9893532146555146, 'max_features': 1}. \n",
      "[I 2023-09-30 22:34:49,763] Trial 73 finished with values: [155.40045145922588, 0.027157872385488484] and parameters: {'n_estimators': 279, 'max_depth': 8, 'learning_rate': 0.00023283849099006154, 'min_samples_split': 78, 'min_samples_leaf': 41, 'subsample': 0.6257664110666536, 'max_features': 2}. \n",
      "[I 2023-09-30 22:34:49,973] Trial 74 finished with values: [79.26600873661359, 0.9440235460628277] and parameters: {'n_estimators': 78, 'max_depth': 2, 'learning_rate': 0.018011476541211772, 'min_samples_split': 61, 'min_samples_leaf': 5, 'subsample': 0.10117658668899587, 'max_features': 5}. \n",
      "[I 2023-09-30 22:34:52,129] Trial 75 finished with values: [22.50049992611269, 0.6738324686355786] and parameters: {'n_estimators': 229, 'max_depth': 7, 'learning_rate': 0.0188344535617881, 'min_samples_split': 10, 'min_samples_leaf': 96, 'subsample': 0.24198356018266473, 'max_features': 5}. \n",
      "[I 2023-09-30 22:34:56,205] Trial 76 finished with values: [19.830218536968978, 0.8033453404320594] and parameters: {'n_estimators': 465, 'max_depth': 7, 'learning_rate': 0.01710336320255596, 'min_samples_split': 75, 'min_samples_leaf': 85, 'subsample': 0.1452752258622068, 'max_features': 9}. \n",
      "[I 2023-09-30 22:35:00,270] Trial 77 finished with values: [162.48119916845343, 0.03456503649342907] and parameters: {'n_estimators': 155, 'max_depth': 8, 'learning_rate': 7.309894982306748e-05, 'min_samples_split': 69, 'min_samples_leaf': 17, 'subsample': 0.4075153256388928, 'max_features': 9}. \n",
      "[I 2023-09-30 22:35:12,207] Trial 78 finished with values: [38.380665480519504, 1.341695368325293] and parameters: {'n_estimators': 830, 'max_depth': 3, 'learning_rate': 0.004642931291661705, 'min_samples_split': 38, 'min_samples_leaf': 77, 'subsample': 0.5036478494445351, 'max_features': 9}. \n",
      "[I 2023-09-30 22:35:18,162] Trial 79 finished with values: [90.74617784645277, 1.0384425408916682] and parameters: {'n_estimators': 750, 'max_depth': 1, 'learning_rate': 0.0020612344215155862, 'min_samples_split': 59, 'min_samples_leaf': 85, 'subsample': 0.659492130991403, 'max_features': 10}. \n"
     ]
    },
    {
     "name": "stdout",
     "output_type": "stream",
     "text": [
      "ali\n"
     ]
    },
    {
     "name": "stderr",
     "output_type": "stream",
     "text": [
      "[I 2023-09-30 22:35:19,864] Trial 80 finished with values: [87.25668922451857, 0.15785770721253523] and parameters: {'n_estimators': 211, 'max_depth': 6, 'learning_rate': 0.003548651169795495, 'min_samples_split': 73, 'min_samples_leaf': 49, 'subsample': 0.3000242197285429, 'max_features': 3}. \n",
      "[I 2023-09-30 22:35:26,834] Trial 81 finished with values: [161.54165660711175, 0.025412069807395625] and parameters: {'n_estimators': 625, 'max_depth': 4, 'learning_rate': 3.2844004584116736e-05, 'min_samples_split': 48, 'min_samples_leaf': 16, 'subsample': 0.7627358047393816, 'max_features': 3}. \n",
      "[I 2023-09-30 22:35:31,658] Trial 82 finished with values: [143.0188889201258, 0.08110562827168458] and parameters: {'n_estimators': 961, 'max_depth': 6, 'learning_rate': 0.0002407240596618266, 'min_samples_split': 30, 'min_samples_leaf': 96, 'subsample': 0.39416196241773127, 'max_features': 1}. \n",
      "[I 2023-09-30 22:35:34,642] Trial 83 finished with values: [144.14096418034927, 0.10747264532642281] and parameters: {'n_estimators': 943, 'max_depth': 2, 'learning_rate': 0.00019555904305385816, 'min_samples_split': 13, 'min_samples_leaf': 13, 'subsample': 0.13629651325561828, 'max_features': 6}. \n",
      "[I 2023-09-30 22:35:39,075] Trial 84 finished with values: [17.45187941445207, 4.574620660965205] and parameters: {'n_estimators': 557, 'max_depth': 5, 'learning_rate': 0.060411908266890864, 'min_samples_split': 7, 'min_samples_leaf': 85, 'subsample': 0.15308362841237713, 'max_features': 10}. \n",
      "[I 2023-09-30 22:35:42,382] Trial 85 finished with values: [54.819038292068804, 1.1980755443193258] and parameters: {'n_estimators': 777, 'max_depth': 2, 'learning_rate': 0.007266705811240238, 'min_samples_split': 61, 'min_samples_leaf': 98, 'subsample': 0.15191113820614258, 'max_features': 10}. \n",
      "[I 2023-09-30 22:35:42,741] Trial 86 finished with values: [25.299641632773575, 2.357860432717839] and parameters: {'n_estimators': 78, 'max_depth': 6, 'learning_rate': 0.0767122536817648, 'min_samples_split': 89, 'min_samples_leaf': 5, 'subsample': 0.1871591358921332, 'max_features': 2}. \n",
      "[I 2023-09-30 22:35:44,581] Trial 87 finished with values: [163.13960860280946, 0.023666527024319428] and parameters: {'n_estimators': 372, 'max_depth': 1, 'learning_rate': 3.648565172427512e-05, 'min_samples_split': 52, 'min_samples_leaf': 52, 'subsample': 0.8706649642691775, 'max_features': 4}. \n",
      "[I 2023-09-30 22:35:57,776] Trial 88 finished with values: [163.07884223325397, 0.03357223819133702] and parameters: {'n_estimators': 640, 'max_depth': 7, 'learning_rate': 1.18604741725896e-05, 'min_samples_split': 36, 'min_samples_leaf': 58, 'subsample': 0.3595944552005147, 'max_features': 9}. \n",
      "[I 2023-09-30 22:35:59,967] Trial 89 finished with values: [29.86792154655977, 1.0521097632846985] and parameters: {'n_estimators': 372, 'max_depth': 3, 'learning_rate': 0.0188344535617881, 'min_samples_split': 19, 'min_samples_leaf': 38, 'subsample': 0.17233801920592487, 'max_features': 9}. \n"
     ]
    },
    {
     "name": "stdout",
     "output_type": "stream",
     "text": [
      "ali\n"
     ]
    },
    {
     "name": "stderr",
     "output_type": "stream",
     "text": [
      "[I 2023-09-30 22:36:00,808] Trial 90 finished with values: [111.23961875178826, 0.8633966386294964] and parameters: {'n_estimators': 201, 'max_depth': 1, 'learning_rate': 0.0057710098410660845, 'min_samples_split': 78, 'min_samples_leaf': 43, 'subsample': 0.6433868318610744, 'max_features': 3}. \n",
      "[I 2023-09-30 22:36:04,592] Trial 91 finished with values: [112.22875657458609, 0.10108349928645284] and parameters: {'n_estimators': 658, 'max_depth': 4, 'learning_rate': 0.0006582566623460408, 'min_samples_split': 74, 'min_samples_leaf': 23, 'subsample': 0.14245846189392075, 'max_features': 7}. \n",
      "[I 2023-09-30 22:36:09,835] Trial 92 finished with values: [119.14030894291423, 0.5476499284503427] and parameters: {'n_estimators': 830, 'max_depth': 1, 'learning_rate': 0.0007765896251914901, 'min_samples_split': 60, 'min_samples_leaf': 9, 'subsample': 0.5036478494445351, 'max_features': 9}. \n",
      "[I 2023-09-30 22:36:13,686] Trial 93 finished with values: [34.15720635550352, 0.5877631713417589] and parameters: {'n_estimators': 516, 'max_depth': 2, 'learning_rate': 0.0495268395635185, 'min_samples_split': 8, 'min_samples_leaf': 5, 'subsample': 0.3328443898688696, 'max_features': 9}. \n",
      "[I 2023-09-30 22:36:17,802] Trial 94 finished with values: [18.681651831919343, 5.929785446490988] and parameters: {'n_estimators': 411, 'max_depth': 5, 'learning_rate': 0.04742071720162711, 'min_samples_split': 45, 'min_samples_leaf': 50, 'subsample': 0.8453304321370171, 'max_features': 2}. \n",
      "[I 2023-09-30 22:36:18,098] Trial 95 finished with values: [148.29206390033247, 0.16229907813155975] and parameters: {'n_estimators': 145, 'max_depth': 1, 'learning_rate': 0.0022835659000754642, 'min_samples_split': 56, 'min_samples_leaf': 33, 'subsample': 0.22297917423206562, 'max_features': 1}. \n",
      "[I 2023-09-30 22:36:20,243] Trial 96 finished with values: [21.400103614430666, 4.367720554884769] and parameters: {'n_estimators': 446, 'max_depth': 8, 'learning_rate': 0.037401306870798824, 'min_samples_split': 24, 'min_samples_leaf': 92, 'subsample': 0.30964194275764206, 'max_features': 1}. \n",
      "[I 2023-09-30 22:36:23,237] Trial 97 finished with values: [24.149153482981323, 1.737416124954725] and parameters: {'n_estimators': 557, 'max_depth': 4, 'learning_rate': 0.04400243371548425, 'min_samples_split': 76, 'min_samples_leaf': 49, 'subsample': 0.8907845510906636, 'max_features': 1}. \n",
      "[I 2023-09-30 22:36:30,747] Trial 98 finished with values: [152.73114992958494, 0.007488527506352808] and parameters: {'n_estimators': 866, 'max_depth': 4, 'learning_rate': 0.00010448466466070108, 'min_samples_split': 78, 'min_samples_leaf': 16, 'subsample': 0.5391635310412844, 'max_features': 3}. \n",
      "[I 2023-09-30 22:36:32,883] Trial 99 finished with values: [162.51310173664848, 0.023449368131340804] and parameters: {'n_estimators': 523, 'max_depth': 2, 'learning_rate': 2.8806902872063824e-05, 'min_samples_split': 22, 'min_samples_leaf': 85, 'subsample': 0.2320777614121788, 'max_features': 5}. \n"
     ]
    },
    {
     "name": "stdout",
     "output_type": "stream",
     "text": [
      "ali\n"
     ]
    },
    {
     "name": "stderr",
     "output_type": "stream",
     "text": [
      "[I 2023-09-30 22:36:40,623] Trial 100 finished with values: [158.092444961167, 0.0364829110455609] and parameters: {'n_estimators': 557, 'max_depth': 9, 'learning_rate': 7.128480097739523e-05, 'min_samples_split': 52, 'min_samples_leaf': 3, 'subsample': 0.2725983111862125, 'max_features': 5}. \n",
      "[I 2023-09-30 22:36:45,269] Trial 101 finished with values: [17.45187941445207, 4.574620660965205] and parameters: {'n_estimators': 557, 'max_depth': 5, 'learning_rate': 0.060411908266890864, 'min_samples_split': 7, 'min_samples_leaf': 85, 'subsample': 0.15308362841237713, 'max_features': 10}. \n",
      "[I 2023-09-30 22:36:48,158] Trial 102 finished with values: [160.73148479331599, 0.031602404114130914] and parameters: {'n_estimators': 270, 'max_depth': 3, 'learning_rate': 9.445248646038263e-05, 'min_samples_split': 90, 'min_samples_leaf': 28, 'subsample': 0.3328443898688696, 'max_features': 9}. \n",
      "[I 2023-09-30 22:36:49,997] Trial 103 finished with values: [20.45121391751922, 4.544484848610689] and parameters: {'n_estimators': 411, 'max_depth': 5, 'learning_rate': 0.050048211075825445, 'min_samples_split': 75, 'min_samples_leaf': 50, 'subsample': 0.213195874693966, 'max_features': 2}. \n",
      "[I 2023-09-30 22:36:54,867] Trial 104 finished with values: [143.0188889201258, 0.08110562827168458] and parameters: {'n_estimators': 961, 'max_depth': 6, 'learning_rate': 0.0002407240596618266, 'min_samples_split': 91, 'min_samples_leaf': 96, 'subsample': 0.39416196241773127, 'max_features': 1}. \n",
      "[I 2023-09-30 22:37:02,493] Trial 105 finished with values: [155.2018578908981, 0.006237714534333768] and parameters: {'n_estimators': 740, 'max_depth': 3, 'learning_rate': 9.445248646038263e-05, 'min_samples_split': 38, 'min_samples_leaf': 77, 'subsample': 0.5690045161785018, 'max_features': 5}. \n",
      "[I 2023-09-30 22:37:10,316] Trial 106 finished with values: [148.72898140695293, 0.018531146376971702] and parameters: {'n_estimators': 441, 'max_depth': 6, 'learning_rate': 0.0002407240596618266, 'min_samples_split': 11, 'min_samples_leaf': 74, 'subsample': 0.5690045161785018, 'max_features': 5}. \n",
      "[I 2023-09-30 22:37:17,135] Trial 107 finished with values: [13.791037918036738, 23.601910216252453] and parameters: {'n_estimators': 380, 'max_depth': 8, 'learning_rate': 0.04742071720162711, 'min_samples_split': 75, 'min_samples_leaf': 8, 'subsample': 0.43697887686117265, 'max_features': 5}. \n",
      "[I 2023-09-30 22:37:34,396] Trial 108 finished with values: [15.543493811676628, 6.617142351768239] and parameters: {'n_estimators': 694, 'max_depth': 7, 'learning_rate': 0.018011476541211772, 'min_samples_split': 75, 'min_samples_leaf': 85, 'subsample': 0.43697887686117265, 'max_features': 9}. \n",
      "[I 2023-09-30 22:37:46,310] Trial 109 finished with values: [125.00607757809287, 0.0322554740749531] and parameters: {'n_estimators': 943, 'max_depth': 5, 'learning_rate': 0.00030994468837114235, 'min_samples_split': 78, 'min_samples_leaf': 16, 'subsample': 0.2412097380871187, 'max_features': 10}. \n"
     ]
    },
    {
     "name": "stdout",
     "output_type": "stream",
     "text": [
      "ali\n"
     ]
    },
    {
     "name": "stderr",
     "output_type": "stream",
     "text": [
      "[I 2023-09-30 22:37:52,069] Trial 110 finished with values: [45.60117576339753, 0.5189973103166687] and parameters: {'n_estimators': 584, 'max_depth': 5, 'learning_rate': 0.002772387677012385, 'min_samples_split': 78, 'min_samples_leaf': 96, 'subsample': 0.24198356018266473, 'max_features': 7}. \n",
      "[I 2023-09-30 22:38:04,115] Trial 111 finished with values: [14.6045288587176, 12.719184692100995] and parameters: {'n_estimators': 584, 'max_depth': 9, 'learning_rate': 0.050048211075825445, 'min_samples_split': 75, 'min_samples_leaf': 97, 'subsample': 0.2725983111862125, 'max_features': 10}. \n",
      "[I 2023-09-30 22:38:13,700] Trial 112 finished with values: [16.644003614864918, 6.8215723508679655] and parameters: {'n_estimators': 919, 'max_depth': 9, 'learning_rate': 0.006392628621879231, 'min_samples_split': 61, 'min_samples_leaf': 1, 'subsample': 0.12036818353908058, 'max_features': 10}. \n",
      "[I 2023-09-30 22:38:45,424] Trial 113 finished with values: [12.206115023456638, 39.03597293602065] and parameters: {'n_estimators': 866, 'max_depth': 9, 'learning_rate': 0.01710336320255596, 'min_samples_split': 78, 'min_samples_leaf': 16, 'subsample': 0.8907845510906636, 'max_features': 5}. \n",
      "[I 2023-09-30 22:38:49,586] Trial 114 finished with values: [18.217021018649497, 6.331342049184281] and parameters: {'n_estimators': 557, 'max_depth': 6, 'learning_rate': 0.021339005174247673, 'min_samples_split': 89, 'min_samples_leaf': 10, 'subsample': 0.3000242197285429, 'max_features': 3}. \n",
      "[I 2023-09-30 22:38:52,492] Trial 115 finished with values: [129.0168113194147, 0.0067713364813290775] and parameters: {'n_estimators': 229, 'max_depth': 6, 'learning_rate': 0.0011206067519816314, 'min_samples_split': 10, 'min_samples_leaf': 96, 'subsample': 0.24198356018266473, 'max_features': 9}. \n",
      "[I 2023-09-30 22:38:56,627] Trial 116 finished with values: [133.65952159304427, 0.011004598874415166] and parameters: {'n_estimators': 557, 'max_depth': 7, 'learning_rate': 0.00039623728501878924, 'min_samples_split': 7, 'min_samples_leaf': 64, 'subsample': 0.15308362841237713, 'max_features': 6}. \n",
      "[I 2023-09-30 22:39:18,778] Trial 117 finished with values: [17.060089537114713, 5.029681184995755] and parameters: {'n_estimators': 919, 'max_depth': 9, 'learning_rate': 0.004609037356191314, 'min_samples_split': 61, 'min_samples_leaf': 46, 'subsample': 0.33321916182868017, 'max_features': 10}. \n",
      "[I 2023-09-30 22:39:21,676] Trial 118 finished with values: [146.34047086944656, 0.002377387389511526] and parameters: {'n_estimators': 557, 'max_depth': 6, 'learning_rate': 0.00023301580233830307, 'min_samples_split': 43, 'min_samples_leaf': 10, 'subsample': 0.15308362841237713, 'max_features': 3}. \n",
      "[I 2023-09-30 22:39:26,433] Trial 119 finished with values: [16.061941861673915, 11.461809677089109] and parameters: {'n_estimators': 487, 'max_depth': 6, 'learning_rate': 0.0495268395635185, 'min_samples_split': 90, 'min_samples_leaf': 8, 'subsample': 0.2820814566640481, 'max_features': 5}. \n"
     ]
    },
    {
     "name": "stdout",
     "output_type": "stream",
     "text": [
      "ali\n"
     ]
    },
    {
     "name": "stderr",
     "output_type": "stream",
     "text": [
      "[I 2023-09-30 22:39:37,316] Trial 120 finished with values: [26.79057099363811, 0.0035116919681654354] and parameters: {'n_estimators': 834, 'max_depth': 6, 'learning_rate': 0.003548651169795495, 'min_samples_split': 73, 'min_samples_leaf': 97, 'subsample': 0.3000242197285429, 'max_features': 7}. \n",
      "[I 2023-09-30 22:39:41,351] Trial 121 finished with values: [158.33486030459372, 0.022522106358273366] and parameters: {'n_estimators': 279, 'max_depth': 4, 'learning_rate': 0.000149865906727236, 'min_samples_split': 73, 'min_samples_leaf': 64, 'subsample': 0.6433868318610744, 'max_features': 5}. \n",
      "[I 2023-09-30 22:39:45,849] Trial 122 finished with values: [159.930287121064, 0.0038715360019535203] and parameters: {'n_estimators': 722, 'max_depth': 2, 'learning_rate': 5.927781900728825e-05, 'min_samples_split': 74, 'min_samples_leaf': 43, 'subsample': 0.6822076377922279, 'max_features': 3}. \n",
      "[I 2023-09-30 22:39:47,775] Trial 123 finished with values: [62.811877238961884, 1.3001539580543457] and parameters: {'n_estimators': 547, 'max_depth': 4, 'learning_rate': 0.004983115761209835, 'min_samples_split': 89, 'min_samples_leaf': 85, 'subsample': 0.2725983111862125, 'max_features': 1}. \n",
      "[I 2023-09-30 22:40:00,478] Trial 124 finished with values: [13.043172085811564, 55.623034706380494] and parameters: {'n_estimators': 943, 'max_depth': 6, 'learning_rate': 0.0495268395635185, 'min_samples_split': 8, 'min_samples_leaf': 4, 'subsample': 0.2412097380871187, 'max_features': 9}. \n",
      "[I 2023-09-30 22:40:06,583] Trial 125 finished with values: [82.88895649570102, 0.030198145145272297] and parameters: {'n_estimators': 211, 'max_depth': 6, 'learning_rate': 0.003548651169795495, 'min_samples_split': 73, 'min_samples_leaf': 49, 'subsample': 0.8174777286190792, 'max_features': 6}. \n",
      "[I 2023-09-30 22:40:45,538] Trial 126 finished with values: [16.352699038895853, 5.201015907853696] and parameters: {'n_estimators': 919, 'max_depth': 7, 'learning_rate': 0.006392628621879231, 'min_samples_split': 89, 'min_samples_leaf': 52, 'subsample': 0.6795975546286052, 'max_features': 10}. \n",
      "[I 2023-09-30 22:40:46,756] Trial 127 finished with values: [59.70652111788732, 0.4691065355737656] and parameters: {'n_estimators': 156, 'max_depth': 10, 'learning_rate': 0.007507058099209009, 'min_samples_split': 11, 'min_samples_leaf': 99, 'subsample': 0.14245846189392075, 'max_features': 7}. \n",
      "[I 2023-09-30 22:40:52,405] Trial 128 finished with values: [151.98976597207175, 0.028347352533645533] and parameters: {'n_estimators': 337, 'max_depth': 7, 'learning_rate': 0.0002407240596618266, 'min_samples_split': 89, 'min_samples_leaf': 52, 'subsample': 0.3050651592020976, 'max_features': 8}. \n",
      "[I 2023-09-30 22:40:54,863] Trial 129 finished with values: [74.80783811021313, 0.41522100734656] and parameters: {'n_estimators': 229, 'max_depth': 5, 'learning_rate': 0.005054926127073418, 'min_samples_split': 45, 'min_samples_leaf': 96, 'subsample': 0.8453304321370171, 'max_features': 2}. \n"
     ]
    },
    {
     "name": "stdout",
     "output_type": "stream",
     "text": [
      "ali\n"
     ]
    },
    {
     "name": "stderr",
     "output_type": "stream",
     "text": [
      "[I 2023-09-30 22:41:07,845] Trial 130 finished with values: [15.625281291666472, 7.591801638510633] and parameters: {'n_estimators': 302, 'max_depth': 8, 'learning_rate': 0.01710336320255596, 'min_samples_split': 52, 'min_samples_leaf': 50, 'subsample': 0.8453304321370171, 'max_features': 7}. \n",
      "[I 2023-09-30 22:41:11,004] Trial 131 finished with values: [125.04549737551434, 0.013347061778173817] and parameters: {'n_estimators': 441, 'max_depth': 6, 'learning_rate': 0.0006582566623460408, 'min_samples_split': 74, 'min_samples_leaf': 23, 'subsample': 0.11144693559453533, 'max_features': 8}. \n",
      "[I 2023-09-30 22:41:15,793] Trial 132 finished with values: [117.02074968774008, 0.003532823300311917] and parameters: {'n_estimators': 319, 'max_depth': 7, 'learning_rate': 0.0011206067519816314, 'min_samples_split': 89, 'min_samples_leaf': 52, 'subsample': 0.24198356018266473, 'max_features': 9}. \n",
      "[I 2023-09-30 22:41:18,203] Trial 133 finished with values: [51.960017473687984, 1.4694143235569934] and parameters: {'n_estimators': 834, 'max_depth': 4, 'learning_rate': 0.004609037356191314, 'min_samples_split': 53, 'min_samples_leaf': 75, 'subsample': 0.1594292111243559, 'max_features': 1}. \n",
      "[I 2023-09-30 22:41:43,345] Trial 134 finished with values: [13.303281176589, 27.114799148129688] and parameters: {'n_estimators': 727, 'max_depth': 6, 'learning_rate': 0.0495268395635185, 'min_samples_split': 74, 'min_samples_leaf': 28, 'subsample': 0.6822076377922279, 'max_features': 9}. \n",
      "[I 2023-09-30 22:41:47,970] Trial 135 finished with values: [16.840307743569745, 15.37393399226919] and parameters: {'n_estimators': 500, 'max_depth': 10, 'learning_rate': 0.04742071720162711, 'min_samples_split': 5, 'min_samples_leaf': 97, 'subsample': 0.8453304321370171, 'max_features': 1}. \n",
      "[I 2023-09-30 22:41:50,101] Trial 136 finished with values: [54.8163374170644, 0.5397054572849486] and parameters: {'n_estimators': 156, 'max_depth': 10, 'learning_rate': 0.007507058099209009, 'min_samples_split': 11, 'min_samples_leaf': 13, 'subsample': 0.16351260202286608, 'max_features': 9}. \n",
      "[I 2023-09-30 22:42:02,000] Trial 137 finished with values: [19.133159075685192, 2.718524336617845] and parameters: {'n_estimators': 919, 'max_depth': 6, 'learning_rate': 0.006392628621879231, 'min_samples_split': 61, 'min_samples_leaf': 1, 'subsample': 0.21439915225833805, 'max_features': 10}. \n",
      "[I 2023-09-30 22:42:04,700] Trial 138 finished with values: [21.295428943720683, 4.808573647752635] and parameters: {'n_estimators': 509, 'max_depth': 5, 'learning_rate': 0.06452617607239991, 'min_samples_split': 75, 'min_samples_leaf': 86, 'subsample': 0.5342658419793753, 'max_features': 1}. \n",
      "[I 2023-09-30 22:42:06,860] Trial 139 finished with values: [21.400103614430666, 4.367720554884769] and parameters: {'n_estimators': 446, 'max_depth': 8, 'learning_rate': 0.037401306870798824, 'min_samples_split': 24, 'min_samples_leaf': 92, 'subsample': 0.30964194275764206, 'max_features': 1}. \n"
     ]
    },
    {
     "name": "stdout",
     "output_type": "stream",
     "text": [
      "ali\n"
     ]
    },
    {
     "name": "stderr",
     "output_type": "stream",
     "text": [
      "[I 2023-09-30 22:42:10,405] Trial 140 finished with values: [29.37702302268311, 0.4283383633647698] and parameters: {'n_estimators': 943, 'max_depth': 2, 'learning_rate': 0.050048211075825445, 'min_samples_split': 75, 'min_samples_leaf': 13, 'subsample': 0.2412097380871187, 'max_features': 4}. \n",
      "[I 2023-09-30 22:42:15,537] Trial 141 finished with values: [31.5052051698824, 0.5615451016523989] and parameters: {'n_estimators': 411, 'max_depth': 6, 'learning_rate': 0.007507058099209009, 'min_samples_split': 37, 'min_samples_leaf': 68, 'subsample': 0.8453304321370171, 'max_features': 2}. \n",
      "[I 2023-09-30 22:42:27,277] Trial 142 finished with values: [144.52812379706435, 0.03048364532014627] and parameters: {'n_estimators': 727, 'max_depth': 7, 'learning_rate': 0.0001832574499738952, 'min_samples_split': 8, 'min_samples_leaf': 4, 'subsample': 0.24198356018266473, 'max_features': 9}. \n",
      "[I 2023-09-30 22:42:45,047] Trial 143 finished with values: [161.52147734051803, 0.03342477405775303] and parameters: {'n_estimators': 740, 'max_depth': 9, 'learning_rate': 2.3672127818739814e-05, 'min_samples_split': 3, 'min_samples_leaf': 77, 'subsample': 0.45925010369301056, 'max_features': 7}. \n",
      "[I 2023-09-30 22:42:55,964] Trial 144 finished with values: [74.28622998199482, 0.2043898004028139] and parameters: {'n_estimators': 584, 'max_depth': 5, 'learning_rate': 0.0016356647854252283, 'min_samples_split': 50, 'min_samples_leaf': 98, 'subsample': 0.9098340972572742, 'max_features': 4}. \n",
      "[I 2023-09-30 22:42:59,700] Trial 145 finished with values: [24.52565345342949, 1.0191958905455496] and parameters: {'n_estimators': 370, 'max_depth': 5, 'learning_rate': 0.0188344535617881, 'min_samples_split': 19, 'min_samples_leaf': 50, 'subsample': 0.8453304321370171, 'max_features': 2}. \n",
      "[I 2023-09-30 22:43:00,924] Trial 146 finished with values: [162.08660938570455, 0.014633144742940276] and parameters: {'n_estimators': 547, 'max_depth': 2, 'learning_rate': 5.476662373248346e-05, 'min_samples_split': 89, 'min_samples_leaf': 43, 'subsample': 0.1827910860271217, 'max_features': 1}. \n",
      "[I 2023-09-30 22:43:02,463] Trial 147 finished with values: [50.11510383306116, 1.413600603649182] and parameters: {'n_estimators': 547, 'max_depth': 4, 'learning_rate': 0.007507058099209009, 'min_samples_split': 89, 'min_samples_leaf': 52, 'subsample': 0.16351260202286608, 'max_features': 1}. \n",
      "[I 2023-09-30 22:43:07,612] Trial 148 finished with values: [14.164907623010103, 17.923626288267553] and parameters: {'n_estimators': 398, 'max_depth': 9, 'learning_rate': 0.020121842768116755, 'min_samples_split': 8, 'min_samples_leaf': 5, 'subsample': 0.14521626854202846, 'max_features': 9}. \n",
      "[I 2023-09-30 22:43:11,114] Trial 149 finished with values: [18.77639037236565, 8.367263757918177] and parameters: {'n_estimators': 774, 'max_depth': 6, 'learning_rate': 0.050048211075825445, 'min_samples_split': 100, 'min_samples_leaf': 52, 'subsample': 0.3050651592020976, 'max_features': 1}. \n"
     ]
    },
    {
     "name": "stdout",
     "output_type": "stream",
     "text": [
      "ali\n"
     ]
    },
    {
     "name": "stderr",
     "output_type": "stream",
     "text": [
      "[I 2023-09-30 22:43:14,423] Trial 150 finished with values: [19.441859171738514, 2.3350661247021858] and parameters: {'n_estimators': 398, 'max_depth': 5, 'learning_rate': 0.020121842768116755, 'min_samples_split': 8, 'min_samples_leaf': 5, 'subsample': 0.14521626854202846, 'max_features': 9}. \n",
      "[I 2023-09-30 22:43:21,897] Trial 151 finished with values: [128.70117271253773, 0.018160199935357793] and parameters: {'n_estimators': 898, 'max_depth': 6, 'learning_rate': 0.00030994468837114235, 'min_samples_split': 53, 'min_samples_leaf': 10, 'subsample': 0.3000242197285429, 'max_features': 3}. \n",
      "[I 2023-09-30 22:43:24,659] Trial 152 finished with values: [150.35319467651865, 0.016304926374435095] and parameters: {'n_estimators': 411, 'max_depth': 5, 'learning_rate': 0.00023301580233830307, 'min_samples_split': 45, 'min_samples_leaf': 10, 'subsample': 0.15308362841237713, 'max_features': 6}. \n",
      "[I 2023-09-30 22:43:47,302] Trial 153 finished with values: [13.157932155059044, 21.02665724332268] and parameters: {'n_estimators': 716, 'max_depth': 8, 'learning_rate': 0.021339005174247673, 'min_samples_split': 47, 'min_samples_leaf': 50, 'subsample': 0.8453304321370171, 'max_features': 5}. \n",
      "[I 2023-09-30 22:43:51,756] Trial 154 finished with values: [18.873173671898602, 3.3510256216191983] and parameters: {'n_estimators': 584, 'max_depth': 4, 'learning_rate': 0.050048211075825445, 'min_samples_split': 75, 'min_samples_leaf': 97, 'subsample': 0.2820814566640481, 'max_features': 5}. \n",
      "[I 2023-09-30 22:44:04,942] Trial 155 finished with values: [156.33735389137928, 0.027905204965360867] and parameters: {'n_estimators': 584, 'max_depth': 9, 'learning_rate': 8.813067047423067e-05, 'min_samples_split': 29, 'min_samples_leaf': 97, 'subsample': 0.3328443898688696, 'max_features': 10}. \n",
      "[I 2023-09-30 22:44:10,365] Trial 156 finished with values: [148.38153075540112, 0.022161155143497105] and parameters: {'n_estimators': 441, 'max_depth': 8, 'learning_rate': 0.0002407240596618266, 'min_samples_split': 11, 'min_samples_leaf': 48, 'subsample': 0.16147406813142512, 'max_features': 10}. \n",
      "[I 2023-09-30 22:44:14,715] Trial 157 finished with values: [18.681651831919343, 5.929785446490988] and parameters: {'n_estimators': 411, 'max_depth': 5, 'learning_rate': 0.04742071720162711, 'min_samples_split': 45, 'min_samples_leaf': 50, 'subsample': 0.8453304321370171, 'max_features': 2}. \n",
      "[I 2023-09-30 22:44:19,346] Trial 158 finished with values: [21.57666460212942, 4.0958622066749415] and parameters: {'n_estimators': 919, 'max_depth': 4, 'learning_rate': 0.04400243371548425, 'min_samples_split': 89, 'min_samples_leaf': 52, 'subsample': 0.5567205204141735, 'max_features': 1}. \n",
      "[I 2023-09-30 22:44:27,530] Trial 159 finished with values: [17.14479026345392, 6.128521257812656] and parameters: {'n_estimators': 834, 'max_depth': 4, 'learning_rate': 0.04400243371548425, 'min_samples_split': 76, 'min_samples_leaf': 49, 'subsample': 0.3000242197285429, 'max_features': 7}. \n"
     ]
    },
    {
     "name": "stdout",
     "output_type": "stream",
     "text": [
      "ali\n"
     ]
    },
    {
     "name": "stderr",
     "output_type": "stream",
     "text": [
      "[I 2023-09-30 22:44:50,155] Trial 160 finished with values: [12.759512432244954, 40.982719094416076] and parameters: {'n_estimators': 977, 'max_depth': 9, 'learning_rate': 0.050048211075825445, 'min_samples_split': 75, 'min_samples_leaf': 30, 'subsample': 0.2725983111862125, 'max_features': 10}. \n",
      "[I 2023-09-30 22:45:05,578] Trial 161 finished with values: [16.00195464797455, 7.800567727654495] and parameters: {'n_estimators': 919, 'max_depth': 8, 'learning_rate': 0.006392628621879231, 'min_samples_split': 61, 'min_samples_leaf': 1, 'subsample': 0.21439915225833805, 'max_features': 10}. \n",
      "[I 2023-09-30 22:45:15,621] Trial 162 finished with values: [23.835167163107364, 0.21732809034865605] and parameters: {'n_estimators': 943, 'max_depth': 5, 'learning_rate': 0.004983115761209835, 'min_samples_split': 28, 'min_samples_leaf': 65, 'subsample': 0.2412097380871187, 'max_features': 8}. \n",
      "[I 2023-09-30 22:45:31,691] Trial 163 finished with values: [16.60041174546696, 8.891713716045887] and parameters: {'n_estimators': 919, 'max_depth': 6, 'learning_rate': 0.018011476541211772, 'min_samples_split': 75, 'min_samples_leaf': 1, 'subsample': 0.21439915225833805, 'max_features': 9}. \n",
      "[I 2023-09-30 22:45:38,713] Trial 164 finished with values: [17.45187941445207, 4.574620660965205] and parameters: {'n_estimators': 557, 'max_depth': 5, 'learning_rate': 0.060411908266890864, 'min_samples_split': 7, 'min_samples_leaf': 85, 'subsample': 0.15308362841237713, 'max_features': 10}. \n",
      "[I 2023-09-30 22:45:56,706] Trial 165 finished with values: [116.93049752126942, 0.038400207944811214] and parameters: {'n_estimators': 319, 'max_depth': 7, 'learning_rate': 0.0011206067519816314, 'min_samples_split': 52, 'min_samples_leaf': 52, 'subsample': 0.8453304321370171, 'max_features': 7}. \n",
      "[I 2023-09-30 22:46:00,090] Trial 166 finished with values: [93.40915631614168, 0.30807983296678654] and parameters: {'n_estimators': 211, 'max_depth': 4, 'learning_rate': 0.003548651169795495, 'min_samples_split': 73, 'min_samples_leaf': 10, 'subsample': 0.6822076377922279, 'max_features': 3}. \n",
      "[I 2023-09-30 22:46:15,156] Trial 167 finished with values: [17.12901953503453, 4.748163765620596] and parameters: {'n_estimators': 977, 'max_depth': 9, 'learning_rate': 0.004609037356191314, 'min_samples_split': 7, 'min_samples_leaf': 15, 'subsample': 0.11171718557387847, 'max_features': 10}. \n",
      "[I 2023-09-30 22:46:20,715] Trial 168 finished with values: [94.80461102197195, 0.15488567382431742] and parameters: {'n_estimators': 465, 'max_depth': 6, 'learning_rate': 0.001294788608474853, 'min_samples_split': 90, 'min_samples_leaf': 85, 'subsample': 0.1452752258622068, 'max_features': 8}. \n",
      "[I 2023-09-30 22:46:35,161] Trial 169 finished with values: [61.00339936994575, 0.26272243844335136] and parameters: {'n_estimators': 229, 'max_depth': 5, 'learning_rate': 0.004983115761209835, 'min_samples_split': 10, 'min_samples_leaf': 85, 'subsample': 0.921710217776569, 'max_features': 10}. \n"
     ]
    },
    {
     "name": "stdout",
     "output_type": "stream",
     "text": [
      "ali\n"
     ]
    },
    {
     "name": "stderr",
     "output_type": "stream",
     "text": [
      "[I 2023-09-30 22:46:49,438] Trial 170 finished with values: [163.4393798101496, 0.03289190748801899] and parameters: {'n_estimators': 370, 'max_depth': 5, 'learning_rate': 1.4829324783495704e-05, 'min_samples_split': 19, 'min_samples_leaf': 50, 'subsample': 0.8174777286190792, 'max_features': 6}. \n",
      "[I 2023-09-30 22:46:53,811] Trial 171 finished with values: [25.936019610576643, 0.40542925647672556] and parameters: {'n_estimators': 774, 'max_depth': 3, 'learning_rate': 0.050048211075825445, 'min_samples_split': 8, 'min_samples_leaf': 52, 'subsample': 0.3050651592020976, 'max_features': 1}. \n",
      "[I 2023-09-30 22:46:59,122] Trial 172 finished with values: [153.57480922376544, 0.025317831529081035] and parameters: {'n_estimators': 229, 'max_depth': 6, 'learning_rate': 0.00030994468837114235, 'min_samples_split': 10, 'min_samples_leaf': 96, 'subsample': 0.24198356018266473, 'max_features': 10}. \n",
      "[I 2023-09-30 22:47:03,431] Trial 173 finished with values: [18.018942249642343, 7.299951761398608] and parameters: {'n_estimators': 694, 'max_depth': 7, 'learning_rate': 0.04742071720162711, 'min_samples_split': 75, 'min_samples_leaf': 50, 'subsample': 0.12496721552159425, 'max_features': 2}. \n",
      "[I 2023-09-30 22:47:10,796] Trial 174 finished with values: [30.031856089537456, 0.466023615595772] and parameters: {'n_estimators': 383, 'max_depth': 6, 'learning_rate': 0.006392628621879231, 'min_samples_split': 61, 'min_samples_leaf': 89, 'subsample': 0.21439915225833805, 'max_features': 10}. \n",
      "[I 2023-09-30 22:47:11,077] Trial 175 finished with values: [162.52033878291175, 0.03292418914287567] and parameters: {'n_estimators': 10, 'max_depth': 7, 'learning_rate': 0.0011206067519816314, 'min_samples_split': 89, 'min_samples_leaf': 97, 'subsample': 0.2725983111862125, 'max_features': 10}. \n",
      "[I 2023-09-30 22:47:44,302] Trial 176 finished with values: [13.610922784896678, 21.490720549136253] and parameters: {'n_estimators': 557, 'max_depth': 6, 'learning_rate': 0.0495268395635185, 'min_samples_split': 74, 'min_samples_leaf': 28, 'subsample': 0.6822076377922279, 'max_features': 10}. \n",
      "[I 2023-09-30 22:47:47,137] Trial 177 finished with values: [21.332458748449756, 2.0393616239811863] and parameters: {'n_estimators': 411, 'max_depth': 5, 'learning_rate': 0.050048211075825445, 'min_samples_split': 75, 'min_samples_leaf': 97, 'subsample': 0.213195874693966, 'max_features': 2}. \n",
      "[I 2023-09-30 22:47:53,209] Trial 178 finished with values: [159.9172345991334, 0.03324264379952163] and parameters: {'n_estimators': 380, 'max_depth': 8, 'learning_rate': 7.438177056161098e-05, 'min_samples_split': 11, 'min_samples_leaf': 76, 'subsample': 0.16351260202286608, 'max_features': 9}. \n",
      "[I 2023-09-30 22:48:23,837] Trial 179 finished with values: [13.879577746400205, 21.51223550412889] and parameters: {'n_estimators': 977, 'max_depth': 9, 'learning_rate': 0.050048211075825445, 'min_samples_split': 75, 'min_samples_leaf': 93, 'subsample': 0.2725983111862125, 'max_features': 10}. \n"
     ]
    },
    {
     "name": "stdout",
     "output_type": "stream",
     "text": [
      "ali\n"
     ]
    },
    {
     "name": "stderr",
     "output_type": "stream",
     "text": [
      "[I 2023-09-30 22:48:31,596] Trial 180 finished with values: [17.45187941445207, 4.574620660965205] and parameters: {'n_estimators': 557, 'max_depth': 5, 'learning_rate': 0.060411908266890864, 'min_samples_split': 45, 'min_samples_leaf': 85, 'subsample': 0.15308362841237713, 'max_features': 10}. \n",
      "[I 2023-09-30 22:49:08,661] Trial 181 finished with values: [12.074708075037222, 43.55309921731707] and parameters: {'n_estimators': 557, 'max_depth': 9, 'learning_rate': 0.01710336320255596, 'min_samples_split': 52, 'min_samples_leaf': 3, 'subsample': 0.8907845510906636, 'max_features': 6}. \n",
      "[I 2023-09-30 22:49:14,317] Trial 182 finished with values: [162.15434885622037, 0.028043003356324286] and parameters: {'n_estimators': 565, 'max_depth': 5, 'learning_rate': 2.7145596607161205e-05, 'min_samples_split': 85, 'min_samples_leaf': 93, 'subsample': 0.2725983111862125, 'max_features': 3}. \n",
      "[I 2023-09-30 22:49:22,446] Trial 183 finished with values: [158.20349114958682, 0.023917621729994565] and parameters: {'n_estimators': 708, 'max_depth': 7, 'learning_rate': 5.927781900728825e-05, 'min_samples_split': 35, 'min_samples_leaf': 52, 'subsample': 0.24198356018266473, 'max_features': 3}. \n",
      "[I 2023-09-30 22:49:29,778] Trial 184 finished with values: [15.705834386975802, 9.746425752382493] and parameters: {'n_estimators': 487, 'max_depth': 6, 'learning_rate': 0.0495268395635185, 'min_samples_split': 73, 'min_samples_leaf': 49, 'subsample': 0.2820814566640481, 'max_features': 5}. \n",
      "[I 2023-09-30 22:49:48,672] Trial 185 finished with values: [19.89838115456962, 0.6444484806647557] and parameters: {'n_estimators': 919, 'max_depth': 7, 'learning_rate': 0.006392628621879231, 'min_samples_split': 10, 'min_samples_leaf': 96, 'subsample': 0.21439915225833805, 'max_features': 10}. \n",
      "[I 2023-09-30 22:49:51,454] Trial 186 finished with values: [25.01520904518134, 0.7555737221923802] and parameters: {'n_estimators': 370, 'max_depth': 5, 'learning_rate': 0.0188344535617881, 'min_samples_split': 78, 'min_samples_leaf': 16, 'subsample': 0.2412097380871187, 'max_features': 2}. \n",
      "[I 2023-09-30 22:50:00,459] Trial 187 finished with values: [82.88895649570102, 0.030198145145272297] and parameters: {'n_estimators': 211, 'max_depth': 6, 'learning_rate': 0.003548651169795495, 'min_samples_split': 73, 'min_samples_leaf': 49, 'subsample': 0.8174777286190792, 'max_features': 6}. \n",
      "[I 2023-09-30 22:50:21,115] Trial 188 finished with values: [13.515658770865544, 20.870214274124407] and parameters: {'n_estimators': 752, 'max_depth': 8, 'learning_rate': 0.0188344535617881, 'min_samples_split': 44, 'min_samples_leaf': 21, 'subsample': 0.43697887686117265, 'max_features': 5}. \n",
      "[I 2023-09-30 22:50:24,579] Trial 189 finished with values: [27.876251270680125, 0.7249379300124309] and parameters: {'n_estimators': 229, 'max_depth': 4, 'learning_rate': 0.020121842768116755, 'min_samples_split': 10, 'min_samples_leaf': 96, 'subsample': 0.24198356018266473, 'max_features': 9}. \n"
     ]
    },
    {
     "name": "stdout",
     "output_type": "stream",
     "text": [
      "ali\n"
     ]
    },
    {
     "name": "stderr",
     "output_type": "stream",
     "text": [
      "[I 2023-09-30 22:50:33,177] Trial 190 finished with values: [15.35703342947945, 13.695095102552044] and parameters: {'n_estimators': 836, 'max_depth': 8, 'learning_rate': 0.050048211075825445, 'min_samples_split': 61, 'min_samples_leaf': 46, 'subsample': 0.14112048194238033, 'max_features': 4}. \n",
      "[I 2023-09-30 22:50:41,918] Trial 191 finished with values: [22.94999470353909, 2.519007637813184] and parameters: {'n_estimators': 727, 'max_depth': 6, 'learning_rate': 0.0153264737165012, 'min_samples_split': 8, 'min_samples_leaf': 49, 'subsample': 0.8907845510906636, 'max_features': 1}. \n",
      "[I 2023-09-30 22:51:05,958] Trial 192 finished with values: [36.497648400783696, 0.38752657907382904] and parameters: {'n_estimators': 411, 'max_depth': 5, 'learning_rate': 0.004983115761209835, 'min_samples_split': 45, 'min_samples_leaf': 85, 'subsample': 0.8453304321370171, 'max_features': 10}. \n",
      "[I 2023-09-30 22:51:13,793] Trial 193 finished with values: [16.222095026738618, 7.324268498799221] and parameters: {'n_estimators': 557, 'max_depth': 7, 'learning_rate': 0.060411908266890864, 'min_samples_split': 7, 'min_samples_leaf': 85, 'subsample': 0.15308362841237713, 'max_features': 9}. \n",
      "[I 2023-09-30 22:51:19,435] Trial 194 finished with values: [80.39735411444572, 0.9687048618194966] and parameters: {'n_estimators': 401, 'max_depth': 2, 'learning_rate': 0.003548651169795495, 'min_samples_split': 75, 'min_samples_leaf': 49, 'subsample': 0.7556010879005842, 'max_features': 5}. \n",
      "[I 2023-09-30 22:51:25,390] Trial 195 finished with values: [40.54881914936563, 0.8567895856026995] and parameters: {'n_estimators': 977, 'max_depth': 5, 'learning_rate': 0.004983115761209835, 'min_samples_split': 7, 'min_samples_leaf': 85, 'subsample': 0.2725983111862125, 'max_features': 1}. \n",
      "[I 2023-09-30 22:51:31,779] Trial 196 finished with values: [15.604330770994682, 17.474910569357498] and parameters: {'n_estimators': 557, 'max_depth': 6, 'learning_rate': 0.060411908266890864, 'min_samples_split': 43, 'min_samples_leaf': 10, 'subsample': 0.3000242197285429, 'max_features': 3}. \n",
      "[I 2023-09-30 22:51:35,140] Trial 197 finished with values: [25.794641540696855, 0.2587357254793225] and parameters: {'n_estimators': 370, 'max_depth': 5, 'learning_rate': 0.013739055065960118, 'min_samples_split': 19, 'min_samples_leaf': 50, 'subsample': 0.2412097380871187, 'max_features': 3}. \n",
      "[I 2023-09-30 22:52:05,432] Trial 198 finished with values: [13.879577746400205, 21.51223550412889] and parameters: {'n_estimators': 977, 'max_depth': 9, 'learning_rate': 0.050048211075825445, 'min_samples_split': 75, 'min_samples_leaf': 93, 'subsample': 0.2725983111862125, 'max_features': 10}. \n",
      "[I 2023-09-30 22:52:37,311] Trial 199 finished with values: [17.193910519411556, 5.182403599565837] and parameters: {'n_estimators': 919, 'max_depth': 9, 'learning_rate': 0.004609037356191314, 'min_samples_split': 75, 'min_samples_leaf': 46, 'subsample': 0.33321916182868017, 'max_features': 9}. \n"
     ]
    },
    {
     "name": "stdout",
     "output_type": "stream",
     "text": [
      "ali\n"
     ]
    },
    {
     "name": "stderr",
     "output_type": "stream",
     "text": [
      "[I 2023-09-30 22:53:06,439] Trial 200 finished with values: [13.386124610365673, 32.44918982992178] and parameters: {'n_estimators': 866, 'max_depth': 5, 'learning_rate': 0.060411908266890864, 'min_samples_split': 45, 'min_samples_leaf': 16, 'subsample': 0.8907845510906636, 'max_features': 5}. \n",
      "[I 2023-09-30 22:53:19,153] Trial 201 finished with values: [18.992268669984032, 2.770023504068875] and parameters: {'n_estimators': 919, 'max_depth': 6, 'learning_rate': 0.006392628621879231, 'min_samples_split': 19, 'min_samples_leaf': 8, 'subsample': 0.21439915225833805, 'max_features': 5}. \n",
      "[I 2023-09-30 22:53:45,244] Trial 202 finished with values: [12.67878797870906, 36.509533595470714] and parameters: {'n_estimators': 836, 'max_depth': 8, 'learning_rate': 0.050048211075825445, 'min_samples_split': 61, 'min_samples_leaf': 46, 'subsample': 0.633652112186728, 'max_features': 4}. \n",
      "[I 2023-09-30 22:54:00,728] Trial 203 finished with values: [31.661819125837507, 0.368615039327871] and parameters: {'n_estimators': 722, 'max_depth': 6, 'learning_rate': 0.003548651169795495, 'min_samples_split': 74, 'min_samples_leaf': 97, 'subsample': 0.6822076377922279, 'max_features': 3}. \n",
      "[I 2023-09-30 22:54:46,652] Trial 204 finished with values: [11.952983365725308, 54.833473953686784] and parameters: {'n_estimators': 866, 'max_depth': 9, 'learning_rate': 0.04742071720162711, 'min_samples_split': 78, 'min_samples_leaf': 50, 'subsample': 0.8453304321370171, 'max_features': 5}. \n",
      "[I 2023-09-30 22:55:08,390] Trial 205 finished with values: [15.460531691755337, 8.223715116594882] and parameters: {'n_estimators': 979, 'max_depth': 6, 'learning_rate': 0.0188344535617881, 'min_samples_split': 74, 'min_samples_leaf': 28, 'subsample': 0.24198356018266473, 'max_features': 10}. \n",
      "[I 2023-09-30 22:55:19,032] Trial 206 finished with values: [15.802431637092706, 7.299631421938741] and parameters: {'n_estimators': 557, 'max_depth': 6, 'learning_rate': 0.060411908266890864, 'min_samples_split': 61, 'min_samples_leaf': 85, 'subsample': 0.21439915225833805, 'max_features': 10}. \n",
      "[I 2023-09-30 22:55:26,616] Trial 207 finished with values: [163.36796801105658, 0.03333187594713915] and parameters: {'n_estimators': 178, 'max_depth': 6, 'learning_rate': 3.276632240382528e-05, 'min_samples_split': 73, 'min_samples_leaf': 49, 'subsample': 0.8174777286190792, 'max_features': 6}. \n",
      "[I 2023-09-30 22:55:47,616] Trial 208 finished with values: [15.776819928444265, 7.392535257543624] and parameters: {'n_estimators': 919, 'max_depth': 7, 'learning_rate': 0.01710336320255596, 'min_samples_split': 89, 'min_samples_leaf': 52, 'subsample': 0.22572934754179788, 'max_features': 10}. \n",
      "[I 2023-09-30 22:56:01,932] Trial 209 finished with values: [19.600537195526044, 1.6002900364364692] and parameters: {'n_estimators': 302, 'max_depth': 6, 'learning_rate': 0.01710336320255596, 'min_samples_split': 52, 'min_samples_leaf': 70, 'subsample': 0.8025583295571914, 'max_features': 7}. \n"
     ]
    },
    {
     "name": "stdout",
     "output_type": "stream",
     "text": [
      "ali\n"
     ]
    },
    {
     "name": "stderr",
     "output_type": "stream",
     "text": [
      "[I 2023-09-30 22:56:07,097] Trial 210 finished with values: [87.94462190658317, 0.23106368970004842] and parameters: {'n_estimators': 211, 'max_depth': 4, 'learning_rate': 0.0035285546020627006, 'min_samples_split': 73, 'min_samples_leaf': 49, 'subsample': 0.5391635310412844, 'max_features': 6}. \n",
      "[I 2023-09-30 22:56:14,126] Trial 211 finished with values: [116.6777265042056, 0.05202688363851294] and parameters: {'n_estimators': 557, 'max_depth': 7, 'learning_rate': 0.0006615396303957776, 'min_samples_split': 7, 'min_samples_leaf': 64, 'subsample': 0.15308362841237713, 'max_features': 6}. \n",
      "[I 2023-09-30 22:56:34,934] Trial 212 finished with values: [17.621511106657145, 4.054502289744306] and parameters: {'n_estimators': 919, 'max_depth': 7, 'learning_rate': 0.006392628621879231, 'min_samples_split': 89, 'min_samples_leaf': 1, 'subsample': 0.21439915225833805, 'max_features': 10}. \n",
      "[I 2023-09-30 22:56:57,754] Trial 213 finished with values: [13.77153087354478, 24.44772788831141] and parameters: {'n_estimators': 919, 'max_depth': 7, 'learning_rate': 0.06365401131988105, 'min_samples_split': 10, 'min_samples_leaf': 52, 'subsample': 0.24198356018266473, 'max_features': 10}. \n",
      "[I 2023-09-30 22:57:03,376] Trial 214 finished with values: [18.532095806374446, 5.488337383094674] and parameters: {'n_estimators': 398, 'max_depth': 7, 'learning_rate': 0.020121842768116755, 'min_samples_split': 66, 'min_samples_leaf': 32, 'subsample': 0.47237789067526864, 'max_features': 2}. \n",
      "[I 2023-09-30 22:57:10,722] Trial 215 finished with values: [16.298516911098417, 5.866319334508566] and parameters: {'n_estimators': 398, 'max_depth': 9, 'learning_rate': 0.020121842768116755, 'min_samples_split': 66, 'min_samples_leaf': 32, 'subsample': 0.14521626854202846, 'max_features': 10}. \n",
      "[I 2023-09-30 22:57:15,332] Trial 216 finished with values: [65.31905831238922, 0.23934646494917375] and parameters: {'n_estimators': 211, 'max_depth': 5, 'learning_rate': 0.004983115761209835, 'min_samples_split': 63, 'min_samples_leaf': 49, 'subsample': 0.2731502983198748, 'max_features': 10}. \n",
      "[I 2023-09-30 22:57:20,179] Trial 217 finished with values: [16.299206131090674, 8.984748676857976] and parameters: {'n_estimators': 557, 'max_depth': 8, 'learning_rate': 0.050048211075825445, 'min_samples_split': 61, 'min_samples_leaf': 46, 'subsample': 0.15308362841237713, 'max_features': 3}. \n",
      "[I 2023-09-30 22:58:51,886] Trial 218 finished with values: [11.601591593567834, 83.99506697869697] and parameters: {'n_estimators': 977, 'max_depth': 9, 'learning_rate': 0.050048211075825445, 'min_samples_split': 75, 'min_samples_leaf': 30, 'subsample': 0.781543640577462, 'max_features': 10}. \n",
      "[I 2023-09-30 22:59:28,554] Trial 219 finished with values: [16.755717246865238, 5.351861768464153] and parameters: {'n_estimators': 977, 'max_depth': 9, 'learning_rate': 0.004609037356191314, 'min_samples_split': 7, 'min_samples_leaf': 46, 'subsample': 0.33321916182868017, 'max_features': 10}. \n"
     ]
    },
    {
     "name": "stdout",
     "output_type": "stream",
     "text": [
      "ali\n"
     ]
    },
    {
     "name": "stderr",
     "output_type": "stream",
     "text": [
      "[I 2023-09-30 22:59:35,273] Trial 220 finished with values: [16.481974016259795, 12.46769901730747] and parameters: {'n_estimators': 836, 'max_depth': 8, 'learning_rate': 0.050048211075825445, 'min_samples_split': 61, 'min_samples_leaf': 49, 'subsample': 0.15308362841237713, 'max_features': 2}. \n",
      "[I 2023-09-30 22:59:41,048] Trial 221 finished with values: [15.298637353896856, 14.914313235536317] and parameters: {'n_estimators': 557, 'max_depth': 9, 'learning_rate': 0.050048211075825445, 'min_samples_split': 75, 'min_samples_leaf': 23, 'subsample': 0.15308362841237713, 'max_features': 3}. \n",
      "[I 2023-09-30 22:59:43,588] Trial 222 finished with values: [20.722159253818845, 2.4342119889342544] and parameters: {'n_estimators': 385, 'max_depth': 5, 'learning_rate': 0.04400243371548425, 'min_samples_split': 76, 'min_samples_leaf': 49, 'subsample': 0.1284857147363859, 'max_features': 3}. \n",
      "[I 2023-09-30 22:59:47,166] Trial 223 finished with values: [83.24007166659115, 0.03676541591150466] and parameters: {'n_estimators': 211, 'max_depth': 6, 'learning_rate': 0.003548651169795495, 'min_samples_split': 73, 'min_samples_leaf': 8, 'subsample': 0.2820814566640481, 'max_features': 5}. \n",
      "[I 2023-09-30 22:59:53,205] Trial 224 finished with values: [17.701019435939713, 5.054862187032076] and parameters: {'n_estimators': 557, 'max_depth': 5, 'learning_rate': 0.060411908266890864, 'min_samples_split': 7, 'min_samples_leaf': 85, 'subsample': 0.15308362841237713, 'max_features': 8}. \n",
      "[I 2023-09-30 23:00:06,782] Trial 225 finished with values: [30.62702678573761, 0.8485439432318674] and parameters: {'n_estimators': 919, 'max_depth': 4, 'learning_rate': 0.0037605095733518096, 'min_samples_split': 76, 'min_samples_leaf': 49, 'subsample': 0.21439915225833805, 'max_features': 10}. \n",
      "[W 2023-09-30 23:00:37,475] Trial 226 failed with parameters: {'n_estimators': 977, 'max_depth': 9, 'learning_rate': 0.01710336320255596, 'min_samples_split': 7, 'min_samples_leaf': 15, 'subsample': 0.8907845510906636, 'max_features': 5} because of the following error: KeyboardInterrupt().\n",
      "Traceback (most recent call last):\n",
      "  File \"/home/albertomiranda/.local/lib/python3.10/site-packages/optuna/study/_optimize.py\", line 200, in _run_trial\n",
      "    value_or_values = func(trial)\n",
      "  File \"/tmp/ipykernel_19931/4142129876.py\", line 17, in objective\n",
      "    model.fit(X_train, y_train)\n",
      "  File \"/home/albertomiranda/.local/lib/python3.10/site-packages/sklearn/ensemble/_gb.py\", line 538, in fit\n",
      "    n_stages = self._fit_stages(\n",
      "  File \"/home/albertomiranda/.local/lib/python3.10/site-packages/sklearn/ensemble/_gb.py\", line 615, in _fit_stages\n",
      "    raw_predictions = self._fit_stage(\n",
      "  File \"/home/albertomiranda/.local/lib/python3.10/site-packages/sklearn/ensemble/_gb.py\", line 257, in _fit_stage\n",
      "    tree.fit(X, residual, sample_weight=sample_weight, check_input=False)\n",
      "  File \"/home/albertomiranda/.local/lib/python3.10/site-packages/sklearn/tree/_classes.py\", line 1247, in fit\n",
      "    super().fit(\n",
      "  File \"/home/albertomiranda/.local/lib/python3.10/site-packages/sklearn/tree/_classes.py\", line 379, in fit\n",
      "    builder.build(self.tree_, X, y, sample_weight)\n",
      "KeyboardInterrupt\n",
      "[W 2023-09-30 23:00:37,477] Trial 226 failed with value None.\n"
     ]
    },
    {
     "ename": "KeyboardInterrupt",
     "evalue": "",
     "output_type": "error",
     "traceback": [
      "\u001b[0;31m---------------------------------------------------------------------------\u001b[0m",
      "\u001b[0;31mKeyboardInterrupt\u001b[0m                         Traceback (most recent call last)",
      "\u001b[0;32m/tmp/ipykernel_19931/4142129876.py\u001b[0m in \u001b[0;36m<cell line: 22>\u001b[0;34m()\u001b[0m\n\u001b[1;32m     23\u001b[0m     \u001b[0;32mtry\u001b[0m\u001b[0;34m:\u001b[0m\u001b[0;34m\u001b[0m\u001b[0;34m\u001b[0m\u001b[0m\n\u001b[1;32m     24\u001b[0m         \u001b[0mstudy\u001b[0m \u001b[0;34m=\u001b[0m \u001b[0mjoblib\u001b[0m\u001b[0;34m.\u001b[0m\u001b[0mload\u001b[0m\u001b[0;34m(\u001b[0m\u001b[0;34m'./studies/study.pkl'\u001b[0m\u001b[0;34m)\u001b[0m\u001b[0;34m\u001b[0m\u001b[0;34m\u001b[0m\u001b[0m\n\u001b[0;32m---> 25\u001b[0;31m         \u001b[0mstudy\u001b[0m\u001b[0;34m.\u001b[0m\u001b[0moptimize\u001b[0m\u001b[0;34m(\u001b[0m\u001b[0mobjective\u001b[0m\u001b[0;34m,\u001b[0m \u001b[0mn_trials\u001b[0m\u001b[0;34m=\u001b[0m\u001b[0;36m10\u001b[0m\u001b[0;34m)\u001b[0m\u001b[0;34m\u001b[0m\u001b[0;34m\u001b[0m\u001b[0m\n\u001b[0m\u001b[1;32m     26\u001b[0m         \u001b[0mjoblib\u001b[0m\u001b[0;34m.\u001b[0m\u001b[0mdump\u001b[0m\u001b[0;34m(\u001b[0m\u001b[0mstudy\u001b[0m\u001b[0;34m,\u001b[0m \u001b[0;34m'./studies/study.pkl'\u001b[0m\u001b[0;34m)\u001b[0m\u001b[0;34m\u001b[0m\u001b[0;34m\u001b[0m\u001b[0m\n\u001b[1;32m     27\u001b[0m         \u001b[0mprint\u001b[0m\u001b[0;34m(\u001b[0m\u001b[0;34m\"ali\"\u001b[0m\u001b[0;34m)\u001b[0m\u001b[0;34m\u001b[0m\u001b[0;34m\u001b[0m\u001b[0m\n",
      "\u001b[0;32m~/.local/lib/python3.10/site-packages/optuna/study/study.py\u001b[0m in \u001b[0;36moptimize\u001b[0;34m(self, func, n_trials, timeout, n_jobs, catch, callbacks, gc_after_trial, show_progress_bar)\u001b[0m\n\u001b[1;32m    440\u001b[0m                 \u001b[0mIf\u001b[0m \u001b[0mnested\u001b[0m \u001b[0minvocation\u001b[0m \u001b[0mof\u001b[0m \u001b[0mthis\u001b[0m \u001b[0mmethod\u001b[0m \u001b[0moccurs\u001b[0m\u001b[0;34m.\u001b[0m\u001b[0;34m\u001b[0m\u001b[0;34m\u001b[0m\u001b[0m\n\u001b[1;32m    441\u001b[0m         \"\"\"\n\u001b[0;32m--> 442\u001b[0;31m         _optimize(\n\u001b[0m\u001b[1;32m    443\u001b[0m             \u001b[0mstudy\u001b[0m\u001b[0;34m=\u001b[0m\u001b[0mself\u001b[0m\u001b[0;34m,\u001b[0m\u001b[0;34m\u001b[0m\u001b[0;34m\u001b[0m\u001b[0m\n\u001b[1;32m    444\u001b[0m             \u001b[0mfunc\u001b[0m\u001b[0;34m=\u001b[0m\u001b[0mfunc\u001b[0m\u001b[0;34m,\u001b[0m\u001b[0;34m\u001b[0m\u001b[0;34m\u001b[0m\u001b[0m\n",
      "\u001b[0;32m~/.local/lib/python3.10/site-packages/optuna/study/_optimize.py\u001b[0m in \u001b[0;36m_optimize\u001b[0;34m(study, func, n_trials, timeout, n_jobs, catch, callbacks, gc_after_trial, show_progress_bar)\u001b[0m\n\u001b[1;32m     64\u001b[0m     \u001b[0;32mtry\u001b[0m\u001b[0;34m:\u001b[0m\u001b[0;34m\u001b[0m\u001b[0;34m\u001b[0m\u001b[0m\n\u001b[1;32m     65\u001b[0m         \u001b[0;32mif\u001b[0m \u001b[0mn_jobs\u001b[0m \u001b[0;34m==\u001b[0m \u001b[0;36m1\u001b[0m\u001b[0;34m:\u001b[0m\u001b[0;34m\u001b[0m\u001b[0;34m\u001b[0m\u001b[0m\n\u001b[0;32m---> 66\u001b[0;31m             _optimize_sequential(\n\u001b[0m\u001b[1;32m     67\u001b[0m                 \u001b[0mstudy\u001b[0m\u001b[0;34m,\u001b[0m\u001b[0;34m\u001b[0m\u001b[0;34m\u001b[0m\u001b[0m\n\u001b[1;32m     68\u001b[0m                 \u001b[0mfunc\u001b[0m\u001b[0;34m,\u001b[0m\u001b[0;34m\u001b[0m\u001b[0;34m\u001b[0m\u001b[0m\n",
      "\u001b[0;32m~/.local/lib/python3.10/site-packages/optuna/study/_optimize.py\u001b[0m in \u001b[0;36m_optimize_sequential\u001b[0;34m(study, func, n_trials, timeout, catch, callbacks, gc_after_trial, reseed_sampler_rng, time_start, progress_bar)\u001b[0m\n\u001b[1;32m    161\u001b[0m \u001b[0;34m\u001b[0m\u001b[0m\n\u001b[1;32m    162\u001b[0m         \u001b[0;32mtry\u001b[0m\u001b[0;34m:\u001b[0m\u001b[0;34m\u001b[0m\u001b[0;34m\u001b[0m\u001b[0m\n\u001b[0;32m--> 163\u001b[0;31m             \u001b[0mfrozen_trial\u001b[0m \u001b[0;34m=\u001b[0m \u001b[0m_run_trial\u001b[0m\u001b[0;34m(\u001b[0m\u001b[0mstudy\u001b[0m\u001b[0;34m,\u001b[0m \u001b[0mfunc\u001b[0m\u001b[0;34m,\u001b[0m \u001b[0mcatch\u001b[0m\u001b[0;34m)\u001b[0m\u001b[0;34m\u001b[0m\u001b[0;34m\u001b[0m\u001b[0m\n\u001b[0m\u001b[1;32m    164\u001b[0m         \u001b[0;32mfinally\u001b[0m\u001b[0;34m:\u001b[0m\u001b[0;34m\u001b[0m\u001b[0;34m\u001b[0m\u001b[0m\n\u001b[1;32m    165\u001b[0m             \u001b[0;31m# The following line mitigates memory problems that can be occurred in some\u001b[0m\u001b[0;34m\u001b[0m\u001b[0;34m\u001b[0m\u001b[0m\n",
      "\u001b[0;32m~/.local/lib/python3.10/site-packages/optuna/study/_optimize.py\u001b[0m in \u001b[0;36m_run_trial\u001b[0;34m(study, func, catch)\u001b[0m\n\u001b[1;32m    249\u001b[0m         \u001b[0;32mand\u001b[0m \u001b[0;32mnot\u001b[0m \u001b[0misinstance\u001b[0m\u001b[0;34m(\u001b[0m\u001b[0mfunc_err\u001b[0m\u001b[0;34m,\u001b[0m \u001b[0mcatch\u001b[0m\u001b[0;34m)\u001b[0m\u001b[0;34m\u001b[0m\u001b[0;34m\u001b[0m\u001b[0m\n\u001b[1;32m    250\u001b[0m     ):\n\u001b[0;32m--> 251\u001b[0;31m         \u001b[0;32mraise\u001b[0m \u001b[0mfunc_err\u001b[0m\u001b[0;34m\u001b[0m\u001b[0;34m\u001b[0m\u001b[0m\n\u001b[0m\u001b[1;32m    252\u001b[0m     \u001b[0;32mreturn\u001b[0m \u001b[0mfrozen_trial\u001b[0m\u001b[0;34m\u001b[0m\u001b[0;34m\u001b[0m\u001b[0m\n\u001b[1;32m    253\u001b[0m \u001b[0;34m\u001b[0m\u001b[0m\n",
      "\u001b[0;32m~/.local/lib/python3.10/site-packages/optuna/study/_optimize.py\u001b[0m in \u001b[0;36m_run_trial\u001b[0;34m(study, func, catch)\u001b[0m\n\u001b[1;32m    198\u001b[0m     \u001b[0;32mwith\u001b[0m \u001b[0mget_heartbeat_thread\u001b[0m\u001b[0;34m(\u001b[0m\u001b[0mtrial\u001b[0m\u001b[0;34m.\u001b[0m\u001b[0m_trial_id\u001b[0m\u001b[0;34m,\u001b[0m \u001b[0mstudy\u001b[0m\u001b[0;34m.\u001b[0m\u001b[0m_storage\u001b[0m\u001b[0;34m)\u001b[0m\u001b[0;34m:\u001b[0m\u001b[0;34m\u001b[0m\u001b[0;34m\u001b[0m\u001b[0m\n\u001b[1;32m    199\u001b[0m         \u001b[0;32mtry\u001b[0m\u001b[0;34m:\u001b[0m\u001b[0;34m\u001b[0m\u001b[0;34m\u001b[0m\u001b[0m\n\u001b[0;32m--> 200\u001b[0;31m             \u001b[0mvalue_or_values\u001b[0m \u001b[0;34m=\u001b[0m \u001b[0mfunc\u001b[0m\u001b[0;34m(\u001b[0m\u001b[0mtrial\u001b[0m\u001b[0;34m)\u001b[0m\u001b[0;34m\u001b[0m\u001b[0;34m\u001b[0m\u001b[0m\n\u001b[0m\u001b[1;32m    201\u001b[0m         \u001b[0;32mexcept\u001b[0m \u001b[0mexceptions\u001b[0m\u001b[0;34m.\u001b[0m\u001b[0mTrialPruned\u001b[0m \u001b[0;32mas\u001b[0m \u001b[0me\u001b[0m\u001b[0;34m:\u001b[0m\u001b[0;34m\u001b[0m\u001b[0;34m\u001b[0m\u001b[0m\n\u001b[1;32m    202\u001b[0m             \u001b[0;31m# TODO(mamu): Handle multi-objective cases.\u001b[0m\u001b[0;34m\u001b[0m\u001b[0;34m\u001b[0m\u001b[0m\n",
      "\u001b[0;32m/tmp/ipykernel_19931/4142129876.py\u001b[0m in \u001b[0;36mobjective\u001b[0;34m(trial)\u001b[0m\n\u001b[1;32m     15\u001b[0m     }\n\u001b[1;32m     16\u001b[0m     \u001b[0mmodel\u001b[0m \u001b[0;34m=\u001b[0m \u001b[0mGradientBoostingRegressor\u001b[0m\u001b[0;34m(\u001b[0m\u001b[0;34m**\u001b[0m\u001b[0mparams\u001b[0m\u001b[0;34m)\u001b[0m\u001b[0;34m\u001b[0m\u001b[0;34m\u001b[0m\u001b[0m\n\u001b[0;32m---> 17\u001b[0;31m     \u001b[0mmodel\u001b[0m\u001b[0;34m.\u001b[0m\u001b[0mfit\u001b[0m\u001b[0;34m(\u001b[0m\u001b[0mX_train\u001b[0m\u001b[0;34m,\u001b[0m \u001b[0my_train\u001b[0m\u001b[0;34m)\u001b[0m\u001b[0;34m\u001b[0m\u001b[0;34m\u001b[0m\u001b[0m\n\u001b[0m\u001b[1;32m     18\u001b[0m     \u001b[0mtest_error\u001b[0m \u001b[0;34m=\u001b[0m \u001b[0mnp\u001b[0m\u001b[0;34m.\u001b[0m\u001b[0msqrt\u001b[0m\u001b[0;34m(\u001b[0m\u001b[0mmean_squared_error\u001b[0m\u001b[0;34m(\u001b[0m\u001b[0my_test\u001b[0m\u001b[0;34m,\u001b[0m \u001b[0mmodel\u001b[0m\u001b[0;34m.\u001b[0m\u001b[0mpredict\u001b[0m\u001b[0;34m(\u001b[0m\u001b[0mX_test\u001b[0m\u001b[0;34m)\u001b[0m\u001b[0;34m)\u001b[0m\u001b[0;34m)\u001b[0m\u001b[0;34m\u001b[0m\u001b[0;34m\u001b[0m\u001b[0m\n\u001b[1;32m     19\u001b[0m     \u001b[0mtrain_error\u001b[0m \u001b[0;34m=\u001b[0m \u001b[0mnp\u001b[0m\u001b[0;34m.\u001b[0m\u001b[0msqrt\u001b[0m\u001b[0;34m(\u001b[0m\u001b[0mmean_squared_error\u001b[0m\u001b[0;34m(\u001b[0m\u001b[0my_train\u001b[0m\u001b[0;34m,\u001b[0m \u001b[0mmodel\u001b[0m\u001b[0;34m.\u001b[0m\u001b[0mpredict\u001b[0m\u001b[0;34m(\u001b[0m\u001b[0mX_train\u001b[0m\u001b[0;34m)\u001b[0m\u001b[0;34m)\u001b[0m\u001b[0;34m)\u001b[0m\u001b[0;34m\u001b[0m\u001b[0;34m\u001b[0m\u001b[0m\n",
      "\u001b[0;32m~/.local/lib/python3.10/site-packages/sklearn/ensemble/_gb.py\u001b[0m in \u001b[0;36mfit\u001b[0;34m(self, X, y, sample_weight, monitor)\u001b[0m\n\u001b[1;32m    536\u001b[0m \u001b[0;34m\u001b[0m\u001b[0m\n\u001b[1;32m    537\u001b[0m         \u001b[0;31m# fit the boosting stages\u001b[0m\u001b[0;34m\u001b[0m\u001b[0;34m\u001b[0m\u001b[0m\n\u001b[0;32m--> 538\u001b[0;31m         n_stages = self._fit_stages(\n\u001b[0m\u001b[1;32m    539\u001b[0m             \u001b[0mX\u001b[0m\u001b[0;34m,\u001b[0m\u001b[0;34m\u001b[0m\u001b[0;34m\u001b[0m\u001b[0m\n\u001b[1;32m    540\u001b[0m             \u001b[0my\u001b[0m\u001b[0;34m,\u001b[0m\u001b[0;34m\u001b[0m\u001b[0;34m\u001b[0m\u001b[0m\n",
      "\u001b[0;32m~/.local/lib/python3.10/site-packages/sklearn/ensemble/_gb.py\u001b[0m in \u001b[0;36m_fit_stages\u001b[0;34m(self, X, y, raw_predictions, sample_weight, random_state, X_val, y_val, sample_weight_val, begin_at_stage, monitor)\u001b[0m\n\u001b[1;32m    613\u001b[0m \u001b[0;34m\u001b[0m\u001b[0m\n\u001b[1;32m    614\u001b[0m             \u001b[0;31m# fit next stage of trees\u001b[0m\u001b[0;34m\u001b[0m\u001b[0;34m\u001b[0m\u001b[0m\n\u001b[0;32m--> 615\u001b[0;31m             raw_predictions = self._fit_stage(\n\u001b[0m\u001b[1;32m    616\u001b[0m                 \u001b[0mi\u001b[0m\u001b[0;34m,\u001b[0m\u001b[0;34m\u001b[0m\u001b[0;34m\u001b[0m\u001b[0m\n\u001b[1;32m    617\u001b[0m                 \u001b[0mX\u001b[0m\u001b[0;34m,\u001b[0m\u001b[0;34m\u001b[0m\u001b[0;34m\u001b[0m\u001b[0m\n",
      "\u001b[0;32m~/.local/lib/python3.10/site-packages/sklearn/ensemble/_gb.py\u001b[0m in \u001b[0;36m_fit_stage\u001b[0;34m(self, i, X, y, raw_predictions, sample_weight, sample_mask, random_state, X_csc, X_csr)\u001b[0m\n\u001b[1;32m    255\u001b[0m \u001b[0;34m\u001b[0m\u001b[0m\n\u001b[1;32m    256\u001b[0m             \u001b[0mX\u001b[0m \u001b[0;34m=\u001b[0m \u001b[0mX_csr\u001b[0m \u001b[0;32mif\u001b[0m \u001b[0mX_csr\u001b[0m \u001b[0;32mis\u001b[0m \u001b[0;32mnot\u001b[0m \u001b[0;32mNone\u001b[0m \u001b[0;32melse\u001b[0m \u001b[0mX\u001b[0m\u001b[0;34m\u001b[0m\u001b[0;34m\u001b[0m\u001b[0m\n\u001b[0;32m--> 257\u001b[0;31m             \u001b[0mtree\u001b[0m\u001b[0;34m.\u001b[0m\u001b[0mfit\u001b[0m\u001b[0;34m(\u001b[0m\u001b[0mX\u001b[0m\u001b[0;34m,\u001b[0m \u001b[0mresidual\u001b[0m\u001b[0;34m,\u001b[0m \u001b[0msample_weight\u001b[0m\u001b[0;34m=\u001b[0m\u001b[0msample_weight\u001b[0m\u001b[0;34m,\u001b[0m \u001b[0mcheck_input\u001b[0m\u001b[0;34m=\u001b[0m\u001b[0;32mFalse\u001b[0m\u001b[0;34m)\u001b[0m\u001b[0;34m\u001b[0m\u001b[0;34m\u001b[0m\u001b[0m\n\u001b[0m\u001b[1;32m    258\u001b[0m \u001b[0;34m\u001b[0m\u001b[0m\n\u001b[1;32m    259\u001b[0m             \u001b[0;31m# update tree leaves\u001b[0m\u001b[0;34m\u001b[0m\u001b[0;34m\u001b[0m\u001b[0m\n",
      "\u001b[0;32m~/.local/lib/python3.10/site-packages/sklearn/tree/_classes.py\u001b[0m in \u001b[0;36mfit\u001b[0;34m(self, X, y, sample_weight, check_input)\u001b[0m\n\u001b[1;32m   1245\u001b[0m         \"\"\"\n\u001b[1;32m   1246\u001b[0m \u001b[0;34m\u001b[0m\u001b[0m\n\u001b[0;32m-> 1247\u001b[0;31m         super().fit(\n\u001b[0m\u001b[1;32m   1248\u001b[0m             \u001b[0mX\u001b[0m\u001b[0;34m,\u001b[0m\u001b[0;34m\u001b[0m\u001b[0;34m\u001b[0m\u001b[0m\n\u001b[1;32m   1249\u001b[0m             \u001b[0my\u001b[0m\u001b[0;34m,\u001b[0m\u001b[0;34m\u001b[0m\u001b[0;34m\u001b[0m\u001b[0m\n",
      "\u001b[0;32m~/.local/lib/python3.10/site-packages/sklearn/tree/_classes.py\u001b[0m in \u001b[0;36mfit\u001b[0;34m(self, X, y, sample_weight, check_input)\u001b[0m\n\u001b[1;32m    377\u001b[0m             )\n\u001b[1;32m    378\u001b[0m \u001b[0;34m\u001b[0m\u001b[0m\n\u001b[0;32m--> 379\u001b[0;31m         \u001b[0mbuilder\u001b[0m\u001b[0;34m.\u001b[0m\u001b[0mbuild\u001b[0m\u001b[0;34m(\u001b[0m\u001b[0mself\u001b[0m\u001b[0;34m.\u001b[0m\u001b[0mtree_\u001b[0m\u001b[0;34m,\u001b[0m \u001b[0mX\u001b[0m\u001b[0;34m,\u001b[0m \u001b[0my\u001b[0m\u001b[0;34m,\u001b[0m \u001b[0msample_weight\u001b[0m\u001b[0;34m)\u001b[0m\u001b[0;34m\u001b[0m\u001b[0;34m\u001b[0m\u001b[0m\n\u001b[0m\u001b[1;32m    380\u001b[0m \u001b[0;34m\u001b[0m\u001b[0m\n\u001b[1;32m    381\u001b[0m         \u001b[0;32mif\u001b[0m \u001b[0mself\u001b[0m\u001b[0;34m.\u001b[0m\u001b[0mn_outputs_\u001b[0m \u001b[0;34m==\u001b[0m \u001b[0;36m1\u001b[0m \u001b[0;32mand\u001b[0m \u001b[0mis_classifier\u001b[0m\u001b[0;34m(\u001b[0m\u001b[0mself\u001b[0m\u001b[0;34m)\u001b[0m\u001b[0;34m:\u001b[0m\u001b[0;34m\u001b[0m\u001b[0;34m\u001b[0m\u001b[0m\n",
      "\u001b[0;31mKeyboardInterrupt\u001b[0m: "
     ]
    }
   ],
   "source": [
    "# create a optuna study for a xgbregressor\n",
    "import joblib \n",
    "from sklearn.metrics import mean_squared_error\n",
    "def objective(trial):\n",
    "    params = {\n",
    "        'n_estimators': trial.suggest_int('n_estimators', 10, 1000),\n",
    "        'max_depth': trial.suggest_int('max_depth', 1, 10),\n",
    "        'learning_rate': trial.suggest_float('learning_rate', 1e-5, 1e-1,log=True),\n",
    "        'min_samples_split': trial.suggest_int('min_samples_split', 2, 100),\n",
    "        'min_samples_leaf': trial.suggest_int('min_samples_leaf', 1, 100),\n",
    "        'subsample': trial.suggest_float('subsample', 0.1, 1.0,log=True),\n",
    "        'max_features': trial.suggest_int('max_features', 1, 10),\n",
    "        'random_state': 42,\n",
    "        'verbose': 0\n",
    "    }\n",
    "    model = GradientBoostingRegressor(**params)\n",
    "    model.fit(X_train, y_train)\n",
    "    test_error = np.sqrt(mean_squared_error(y_test, model.predict(X_test)))\n",
    "    train_error = np.sqrt(mean_squared_error(y_train, model.predict(X_train)))\n",
    "    train_test_diff = abs(train_error - test_error)/train_error\n",
    "    return test_error/(60*60*24),train_test_diff*100\n",
    "for i in range(100000000000000000000000000000):\n",
    "    try:\n",
    "        study = joblib.load('./studies/study.pkl')   \n",
    "        study.optimize(objective, n_trials=10)\n",
    "        joblib.dump(study, './studies/study.pkl')\n",
    "        print(\"ali\")\n",
    "    except Exception as e:\n",
    "        print(e)\n",
    "        print(\"aqui\")\n",
    "        study = opt.create_study(directions=['minimize',\"minimize\"])\n",
    "        study.optimize(objective, n_trials=10)\n",
    "        joblib.dump(study, './studies/study.pkl')\n",
    "\n",
    "\n",
    "\n",
    "# results pareto plot\n",
    "\n"
   ]
  },
  {
   "cell_type": "code",
   "execution_count": null,
   "metadata": {},
   "outputs": [],
   "source": [
    "study = joblib.load('./studies/study.pkl')\n",
    "\n",
    "import matplotlib.pyplot as plt\n",
    "\n",
    "fig = opt.visualization.plot_pareto_front(study)\n",
    "fig.show()"
   ]
  },
  {
   "cell_type": "code",
   "execution_count": null,
   "metadata": {},
   "outputs": [],
   "source": []
  }
 ],
 "metadata": {
  "kernelspec": {
   "display_name": "Python 3",
   "language": "python",
   "name": "python3"
  },
  "language_info": {
   "codemirror_mode": {
    "name": "ipython",
    "version": 3
   },
   "file_extension": ".py",
   "mimetype": "text/x-python",
   "name": "python",
   "nbconvert_exporter": "python",
   "pygments_lexer": "ipython3",
   "version": "3.10.12"
  },
  "orig_nbformat": 4
 },
 "nbformat": 4,
 "nbformat_minor": 2
}
